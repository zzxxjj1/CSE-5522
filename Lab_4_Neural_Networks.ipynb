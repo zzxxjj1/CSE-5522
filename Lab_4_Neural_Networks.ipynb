{
  "nbformat": 4,
  "nbformat_minor": 0,
  "metadata": {
    "colab": {
      "provenance": []
    },
    "kernelspec": {
      "name": "python3",
      "display_name": "Python 3"
    },
    "accelerator": "GPU"
  },
  "cells": [
    {
      "cell_type": "markdown",
      "metadata": {
        "id": "5uQ78FQhx29R"
      },
      "source": [
        "# **CSE 5522 Lab #4: Neural Networks**\n",
        "\n",
        "Author: Stephen Zheng<br>\n",
        "The goals of this lab are to familarize you with:\n",
        "\n",
        "* Perceptron Learning Rule\n",
        "* Neural Network toolkits (PyTorch, specifically)\n",
        "* Supervised learning with data related to speech\n",
        "\n",
        "**Initial notes**\n",
        "\n",
        "* (If you are using Google Colab) Make a copy of this page in your google drive so that you can edit it.\n",
        "\n",
        "* While not completely necessary for this assignment, you may want to familiarize yourself with the following packages: [numpy](https://numpy.org), [scikit-learn](https://scikit-learn.org), [pandas](https://pandas.pydata.org), [matplotlib](https://matplotlib.org).\n",
        " * Especially numpy, many of the calculations in this (and later) lab can be done in one line using numpy. Whereas raw python may require 5-10x that.\n",
        "\n",
        "* Feel free to (please do!) change the structure of the document below. Especially, add code sections to break your code into logical pieces and add text sections to explain your code or results\n",
        "\n",
        "---\n",
        "---\n"
      ]
    },
    {
      "cell_type": "markdown",
      "metadata": {
        "id": "DAah7VT7r9am"
      },
      "source": [
        "\n",
        "# **Part 1: Perceptron Learning Rule (0 pts)**\n",
        "\n",
        "You won't need anything from part 1 of the Hands-On to complete this lab."
      ]
    },
    {
      "cell_type": "markdown",
      "metadata": {
        "id": "2d0V3Z7q22Rm"
      },
      "source": [
        "---\n",
        "---\n",
        "\n",
        "# **Part 2: Vowel Classification (0 pts)**\n",
        "\n",
        "In this section, you will look at some actual (noisy) vowel formant data.\n",
        "\n",
        "Formants, as we use them here, are the local maxima, or broad peaks, in a sound's spectrogram. They are related to the harmonic structure of sounds and so we expect them to be highly related to speech. So we will attempt to use formant pairs (the two highest/most powerful, peaks) to predict vowels.\n",
        "\n",
        "Go to the International Phonetic Alphabet (IPA) vowel chart at https://en.wikipedia.org/wiki/IPA_vowel_chart_with_audio and play the sounds.  The chart is written in IPA, but here are the two letter (ARPABET) symbols for some of the vowels of English: iy, ih, ey, eh, ah, ao, ow, uw, ax.\n",
        "\n",
        "Vowels are produced by shaping the vocal tract so some of their features are:\n",
        "\n",
        "|Vowel|Tongue Height|Tongue Depth|Lip Shape|\n",
        "|---|---|---|---|\n",
        "|iy|close|front|unrounded|\n",
        "|ih|near-close|front|unrounded|\n",
        "|ey|close-mid|front|unrounded|\n",
        "|eh|open-mid|front|unrounded|\n",
        "|ah|open|back|rounded|\n",
        "|ao|open-mid|back|rounded|\n",
        "|ow|close-mid|back|rounded|\n",
        "|uw|close|back|rounded|\n",
        "|ax|mid|central|unrounded|\n",
        "\n",
        "I've prepared a csv datafile with the following features:\n",
        "* Vowels\n",
        " * 'vowel': Two-letter vowel identifier (e.g., 'iy', 'ih', etc.)\n",
        "* Formants\n",
        " * 'f1': Strongest formant (in Hz)\n",
        " * 'f2': Second strongest formant (in Hz)\n",
        "* Tongue Height\n",
        "* Tongue Depth\n",
        "* Lip Shape\n",
        " * You won't be using these in the current form of the lab, so they can be ignored.\n",
        "---\n",
        "\n",
        "First, let's read in the data.\n",
        "\n"
      ]
    },
    {
      "cell_type": "code",
      "metadata": {
        "id": "9YZyTz4sBrx6",
        "colab": {
          "base_uri": "https://localhost:8080/",
          "height": 392
        },
        "outputId": "49a48540-5efa-48b2-8f19-4dc8aeefc51f"
      },
      "source": [
        "import numpy as np\n",
        "import matplotlib.pyplot as plt\n",
        "\n",
        "# first, read in the data and build a scatterplot showing the vowel formants\n",
        "import pandas as pd\n",
        "url='https://raw.githubusercontent.com/efosler/cse5522data/master/vowelfmts.csv'\n",
        "df=pd.read_csv(url)\n",
        "#display(df.head());\n",
        "# This function will plot the vowels as a scatterplot with different colors\n",
        "# using the traditional F2 vs F1 inverted plot.  This puts high (close) vowels\n",
        "# at the top of the plot and low vowels (open) at the bottom.  Front vowels\n",
        "# are to the left; back vowels to the right.  Optionally can plot a boundary.\n",
        "\n",
        "def plotvowels(df,weights=None):\n",
        "  # this next bit converts the label into a colormap value between 0 and 1\n",
        "  vowels=df['vowel'].unique()\n",
        "  vmap={}\n",
        "  for i in range(vowels.shape[0]):\n",
        "    vmap[vowels[i]]=float(i)/float(vowels.shape[0]-1)\n",
        "  df['color']=df['vowel'].map(vmap)\n",
        "  # plot the scatterplot\n",
        "  plt.figure(num=1,figsize=(6,6))\n",
        "  plt.scatter(df['f2'],df['f1'],s=1,c=df['color'],cmap='gist_rainbow')\n",
        "  plt.xlabel('f2')\n",
        "  plt.ylabel('f1')\n",
        "  plt.gca().set_ylim([100,1000])\n",
        "  plt.gca().set_xlim([750,2500])\n",
        "  plt.gca().invert_xaxis()\n",
        "  plt.gca().invert_yaxis()\n",
        "  if weights is not None:\n",
        "    dmin=df['f2'].min()\n",
        "    dmax=df['f2'].max()\n",
        "    plt.plot(np.array([dmin,dmax]),\n",
        "             np.array([-(dmin*weights[0]+weights[2])/(weights[1]),\n",
        "                       -(dmax*weights[0]+weights[2])/(weights[1])]),\n",
        "             'b--'\n",
        "             )\n",
        "\n",
        "# Plot the vowel data.  Compare against the IPA chart online.\n",
        "plotvowels(df)"
      ],
      "execution_count": null,
      "outputs": [
        {
          "output_type": "display_data",
          "data": {
            "image/png": "[encoded data removed]",
            "text/plain": [
              "<Figure size 432x432 with 1 Axes>"
            ]
          },
          "metadata": {
            "tags": [],
            "needs_background": "light"
          }
        }
      ]
    },
    {
      "cell_type": "markdown",
      "metadata": {
        "id": "OKy9yHIA4fgW"
      },
      "source": [
        "The chart above shows examples of vowels (iy, ih, ...) as colors, along with the formants (f1,f2) we will use to predict them.\n",
        "\n",
        "You will notice that the vowel classes aren't linearly separable. Which, as we know, means a simple single layer perceptron (as you developed for part 1) cannot solve it. Looking at the above diagram, with the different classes so mixed together, it would not even be able to make a decent approximation.\n",
        "\n",
        "---\n",
        "\n",
        "**2.2** To start, a bit of code to extract data and create training/test sets."
      ]
    },
    {
      "cell_type": "code",
      "metadata": {
        "id": "z55b8iWFBIFC",
        "colab": {
          "base_uri": "https://localhost:8080/"
        },
        "outputId": "2cf47c8e-6a59-445c-dd22-6237d4f6d978"
      },
      "source": [
        "#Extract fundamental frequencies\n",
        "data_f1=np.array(df['f1'],dtype='float32')\n",
        "data_f2=np.array(df['f2'],dtype='float32')\n",
        "data_formants=np.transpose(np.vstack((data_f1,data_f2)))\n",
        "del data_f1, data_f2 #Delete these so they don't hang around poluting the namespace\n",
        "labels_formants=['f1','f2']\n",
        "print(labels_formants)\n",
        "#display(data_formants)\n",
        "\n",
        "#Extract vowel, it's categorical so we create dummy variables for each vowel\n",
        "data_vowels=pd.get_dummies(df['vowel'])\n",
        "labels_vowels=list(data_vowels.columns)\n",
        "data_vowels=np.array(data_vowels,dtype='int_')\n",
        "print(labels_vowels)\n",
        "#display(data_vowels)\n",
        "\n",
        "#Sometimes it's also useful to map categorical variables to (column) index\n",
        "#  (You will need this in part 4!)\n",
        "index_vowels={label:idx for idx,label in enumerate(labels_vowels)}\n",
        "data_vowels_idx=np.array([index_vowels[vwl] for vwl in df['vowel']],dtype='int_')\n",
        "#display(data_vowels_idx)\n",
        "\n",
        "from sklearn.model_selection import train_test_split\n",
        "train_formants, test_formants, train_vowels, test_vowels, train_vowels_idx, test_vowels_idx = \\\n",
        "  train_test_split(data_formants,data_vowels,data_vowels_idx)\n"
      ],
      "execution_count": null,
      "outputs": [
        {
          "output_type": "stream",
          "text": [
            "['f1', 'f2']\n",
            "['ah', 'ao', 'ax', 'eh', 'ey', 'ih', 'iy', 'ow', 'uw']\n"
          ],
          "name": "stdout"
        }
      ]
    },
    {
      "cell_type": "code",
      "metadata": {
        "id": "Pk6gr0g_LHJg"
      },
      "source": [
        "#display(train_formants, test_formants)\n",
        "#display(train_vowels, test_vowels)\n",
        "#display(train_vowels_idx, test_vowels_idx)"
      ],
      "execution_count": null,
      "outputs": []
    },
    {
      "cell_type": "markdown",
      "metadata": {
        "id": "5ropho7s6URu"
      },
      "source": [
        "---\n",
        "---\n",
        "\n",
        "# **Part 3: PyTorch Neural Networks** (0 pts)\n",
        "\n",
        "If you didn't get a chance during the Hands-On, go back and look at part 3 from the Hands-On. You'll be using/modifying that example code for Part 4 of the lab.\n"
      ]
    },
    {
      "cell_type": "code",
      "metadata": {
        "id": "GyIQ-0oOiU7F"
      },
      "source": [
        "#Basic PyTorch setup\n",
        "import torch\n",
        "from torch.autograd import Variable\n",
        "import torch.nn as nn\n",
        "import torch.nn.functional as F\n",
        "import torch.optim as optim\n",
        "import numpy as np\n",
        "import matplotlib.pyplot as plt\n",
        "%matplotlib inline\n",
        "\n",
        "#Use GPU if available\n",
        "dev = torch.device(\"cuda\") if torch.cuda.is_available() else torch.device(\"cpu\")"
      ],
      "execution_count": null,
      "outputs": []
    },
    {
      "cell_type": "markdown",
      "metadata": {
        "id": "H1CUtRJr_8al"
      },
      "source": [
        "---\n",
        "---\n",
        "\n",
        "# **Part 4: MLP classification of vowels (60 pts)**\n",
        "\n",
        "In this section we will combine together what you learned in Parts 2 and 3.\n",
        "\n",
        "Previously, in Part 2 we noted the vowel data was not linearly separable based solely on the formants, hence could not be solved with a single-layer percepton.\n",
        "\n",
        "We then proceeded to manually separate the data based on vocal tract features, then manually recombine the results to get vowel predictions.\n",
        "\n",
        "In this Part 4 we will take a different approach: We will instead use a *multi-layer perceptron* which should be capable of solving even non-linearly separable problems.\n",
        "\n",
        "This should allow us to predict vowel classes directly from formants, ignoring the vocal tract features completely.\n",
        "\n",
        "---\n",
        "\n",
        "**4.1** With the formant data from Part 2, use PyTorch to construct a 2-layer MLP with 100 hidden units, predicting the vowel class.\n",
        "\n",
        "The traditional way to handle multi-class (non-binary) problems such as this is to have a softmax output with a cross entropy loss.  Pytorch does this using the [torch.nn.CrossEntropyLoss](https://pytorch.org/docs/master/generated/torch.nn.CrossEntropyLoss.html) function, which expects as its input the linear layer (it builds the softmax function into the loss).\n",
        "\n",
        "You will need to modify the hands-on example to use softmax output with cross-entropy as loss function. Review the linked documentation (you will need to be careful of the format expected for various inputs!)\n",
        "\n",
        "Report and discuss results on the test set.\n",
        "\n",
        "**Note:** Part of this task involves adapting what you learned in Part 3, as well as looking up documentation/examples for PyTorch to make the required modifications."
      ]
    },
    {
      "cell_type": "code",
      "metadata": {
        "id": "Q_gGYNTCDvaO"
      },
      "source": [
        "# Your MLP code here\n",
        "class MLP(nn.Module):\n",
        "    def __init__(self, input_dim = 2, hid_dim=100, output_dim=9):\n",
        "        # initialze the superclass\n",
        "        super(MLP, self).__init__()\n",
        "        # this will create a linear layer with input_dim x hid_dim parameters\n",
        "        # in addition to a bias unit with hid_dim parameters\n",
        "        self.lin1 = nn.Linear(input_dim, hid_dim)\n",
        "        # same thing here except hid_dim x output_dim\n",
        "        self.lin2 = nn.Linear(hid_dim, output_dim)\n",
        "\n",
        "    # this is where the meat of the action is\n",
        "    def forward(self, x):\n",
        "        x = self.lin1(x)  # linear combination of inputs\n",
        "        x = torch.sigmoid(x) # then through sigmoid - output of first layer\n",
        "        x = self.lin2(x) # linear combination of hidden units\n",
        "        #x = torch.sigmoid(x) # then through sigmoid - net output\n",
        "        return x"
      ],
      "execution_count": null,
      "outputs": []
    },
    {
      "cell_type": "code",
      "metadata": {
        "id": "fCSinv5kMkuA"
      },
      "source": [
        "def weights_init(model):\n",
        "    for m in model.modules():\n",
        "        if isinstance(m, nn.Linear):\n",
        "            # initialize the weight tensor, here we use a normal distribution\n",
        "            m.weight.data.normal_(0, 1)"
      ],
      "execution_count": null,
      "outputs": []
    },
    {
      "cell_type": "code",
      "metadata": {
        "id": "c8YNXWtY9Fgg"
      },
      "source": [
        "# Need to normalize train_formants and test_formants\n",
        "from sklearn import preprocessing\n",
        "scaler = preprocessing.MinMaxScaler().fit(train_formants)\n",
        "normal_train_formants = scaler.transform(train_formants)\n",
        "#display(normal_train_formants)\n",
        "scaler = preprocessing.MinMaxScaler().fit(test_formants)\n",
        "normal_test_formants = scaler.transform(test_formants)\n",
        "#display(normal_test_formants)\n",
        "x_train = torch.tensor(normal_train_formants)\n",
        "y_train = torch.tensor(train_vowels_idx)\n",
        "x_test = torch.tensor(normal_test_formants)\n",
        "y_test = torch.tensor(test_vowels_idx)\n",
        "#display(x_train, y_train)\n",
        "#display(x_test, y_test)"
      ],
      "execution_count": null,
      "outputs": []
    },
    {
      "cell_type": "code",
      "metadata": {
        "id": "LbFyPa7cMpQ7"
      },
      "source": [
        "model = MLP()\n",
        "weights_init(model)\n",
        "loss_func = nn.CrossEntropyLoss() # Use Cross-Entropy Loss\n",
        "optimizer = optim.SGD(model.parameters(), lr=0.02, momentum=0.9)"
      ],
      "execution_count": null,
      "outputs": []
    },
    {
      "cell_type": "code",
      "metadata": {
        "id": "CyZfiymQHISM"
      },
      "source": [
        "# Training with mini-batch\n",
        "def training(x , y, epochs, model, loss_func, optimizer):\n",
        "  N = x.size(0)\n",
        "  for i in range(epochs):\n",
        "    mini_batch_size=50\n",
        "    order=np.random.permutation(N)\n",
        "    for j in range(0,N,mini_batch_size):\n",
        "      data_points = order[j:min(j+mini_batch_size,N)]\n",
        "      x_var = Variable(x[data_points], requires_grad=False)\n",
        "      y_var = Variable(y[data_points], requires_grad=False)\n",
        "\n",
        "      optimizer.zero_grad()\n",
        "      y_hat = model(x_var)\n",
        "      loss = loss_func.forward(y_hat, y_var)\n",
        "      loss.backward()\n",
        "      optimizer.step()\n",
        "\n",
        "    if i % 5000 == 0:\n",
        "      print(\"Epoch: {0}, Loss: {1}, \".format(i, loss.data.cpu().numpy()))"
      ],
      "execution_count": null,
      "outputs": []
    },
    {
      "cell_type": "code",
      "metadata": {
        "id": "G-roO6YOLoUi"
      },
      "source": [
        "# Return the accuracy\n",
        "def accuracy(x, y, model):\n",
        "  correct = 0\n",
        "  x_var = Variable(x, requires_grad=False)\n",
        "  y_var = Variable(y, requires_grad=False)\n",
        "  y_hat = model(x_var.float())\n",
        "  y_var = y_var.long()\n",
        "  prediction_vowels_idx = []\n",
        "  prediction = y_hat.detach().numpy()\n",
        "  for i in range (prediction.shape[0]):\n",
        "    #Find the max output and append to the list\n",
        "    prediction_vowels_idx.append(np.where(prediction[i]==max(prediction[i])))\n",
        "  total = len(prediction_vowels_idx)\n",
        "  for x in range (total):\n",
        "    correct += 1 if prediction_vowels_idx[x][0][0] == int (y_var[x]) else 0\n",
        "  return correct/total"
      ],
      "execution_count": null,
      "outputs": []
    },
    {
      "cell_type": "code",
      "metadata": {
        "id": "CYo6DyccPJn2",
        "colab": {
          "base_uri": "https://localhost:8080/"
        },
        "outputId": "ddc974f6-7adf-46e7-f095-77af9829ad2c"
      },
      "source": [
        "# Train the model 100000 times\n",
        "training(x_train, y_train, 100001, model, loss_func, optimizer)"
      ],
      "execution_count": null,
      "outputs": [
        {
          "output_type": "stream",
          "text": [
            "Epoch: 0, Loss: 2.1563479900360107, \n",
            "Epoch: 5000, Loss: 1.0771031379699707, \n",
            "Epoch: 10000, Loss: 0.703187108039856, \n",
            "Epoch: 15000, Loss: 1.0360829830169678, \n",
            "Epoch: 20000, Loss: 1.1536495685577393, \n",
            "Epoch: 25000, Loss: 0.6304243803024292, \n",
            "Epoch: 30000, Loss: 0.7959765791893005, \n",
            "Epoch: 35000, Loss: 0.7909039855003357, \n",
            "Epoch: 40000, Loss: 0.5782797336578369, \n",
            "Epoch: 45000, Loss: 0.5946545600891113, \n",
            "Epoch: 50000, Loss: 0.620069146156311, \n",
            "Epoch: 55000, Loss: 0.9074170589447021, \n",
            "Epoch: 60000, Loss: 0.5639670491218567, \n",
            "Epoch: 65000, Loss: 0.7767226696014404, \n",
            "Epoch: 70000, Loss: 1.1916167736053467, \n",
            "Epoch: 75000, Loss: 1.2324934005737305, \n",
            "Epoch: 80000, Loss: 0.6780978441238403, \n",
            "Epoch: 85000, Loss: 0.5405256152153015, \n",
            "Epoch: 90000, Loss: 0.6992953419685364, \n",
            "Epoch: 95000, Loss: 0.8019039630889893, \n",
            "Epoch: 100000, Loss: 0.9636530876159668, \n"
          ],
          "name": "stdout"
        }
      ]
    },
    {
      "cell_type": "markdown",
      "metadata": {
        "id": "u634UU-Ocukz"
      },
      "source": [
        "**It took almost 40 min to train. Super long time...**\n",
        "\n",
        "Epoch: 0, Loss: 2.1563479900360107,\n",
        "\n",
        "Epoch: 5000, Loss: 1.0771031379699707,\n",
        "\n",
        "Epoch: 10000, Loss: 0.703187108039856,\n",
        "\n",
        "Epoch: 15000, Loss: 1.0360829830169678,\n",
        "\n",
        "Epoch: 20000, Loss: 1.1536495685577393,\n",
        "\n",
        "Epoch: 25000, Loss: 0.6304243803024292,\n",
        "\n",
        "Epoch: 30000, Loss: 0.7959765791893005,\n",
        "\n",
        "Epoch: 35000, Loss: 0.7909039855003357,\n",
        "\n",
        "Epoch: 40000, Loss: 0.5782797336578369,\n",
        "\n",
        "Epoch: 45000, Loss: 0.5946545600891113,\n",
        "\n",
        "Epoch: 50000, Loss: 0.620069146156311,\n",
        "\n",
        "Epoch: 55000, Loss: 0.9074170589447021,\n",
        "\n",
        "Epoch: 60000, Loss: 0.5639670491218567,\n",
        "\n",
        "Epoch: 65000, Loss: 0.7767226696014404,\n",
        "\n",
        "Epoch: 70000, Loss: 1.1916167736053467,\n",
        "\n",
        "Epoch: 75000, Loss: 1.2324934005737305,\n",
        "\n",
        "Epoch: 80000, Loss: 0.6780978441238403,\n",
        "\n",
        "Epoch: 85000, Loss: 0.5405256152153015,\n",
        "\n",
        "Epoch: 90000, Loss: 0.6992953419685364,\n",
        "\n",
        "Epoch: 95000, Loss: 0.8019039630889893,\n",
        "\n",
        "Epoch: 100000, Loss: 0.9636530876159668,"
      ]
    },
    {
      "cell_type": "markdown",
      "metadata": {
        "id": "R5GzHwzPdJLC"
      },
      "source": [
        "**From the record above, I can see that the overall loss is decreasing. But there are some iterations that loss increases. I am guessing the model because I used mini-batch. Each mini-batch is random picked from the data, so the loss is jumping around. But the overall loss decreases as the epoch increases.**"
      ]
    },
    {
      "cell_type": "code",
      "metadata": {
        "colab": {
          "base_uri": "https://localhost:8080/"
        },
        "id": "Fdj4mtyJRG-D",
        "outputId": "59d60666-9d45-4bc3-f324-bf641a72906c"
      },
      "source": [
        "print(\"Accuracy: \", accuracy(x_test, y_test, model))"
      ],
      "execution_count": null,
      "outputs": [
        {
          "output_type": "stream",
          "text": [
            "Accuracy:  0.5666666666666667\n"
          ],
          "name": "stdout"
        }
      ]
    },
    {
      "cell_type": "markdown",
      "metadata": {
        "id": "x3KyfIH4w-o4"
      },
      "source": [
        "**Accuracy:  0.5666666666666667**"
      ]
    },
    {
      "cell_type": "markdown",
      "metadata": {
        "id": "GTBelUnedgCx"
      },
      "source": [
        "**Although the training took about 40 mins, the accuracy is way lower than I expected. I feel like that the cost is not proportional to the benefit.**\n"
      ]
    },
    {
      "cell_type": "markdown",
      "metadata": {
        "id": "eCi3ezvAEpGc"
      },
      "source": [
        "**4.2** You may be disappointed in the accuracy you achieve in the previous step. But it turns out that multi-class classification has results that are a bit tricky to interpret (compared to binary classification).\n",
        "\n",
        "Let's turn your results into binary classification and re-evaluate.\n",
        "\n",
        "Instead of considering all vowel classes at once, let's take one, say 'ih'. Convert your previous predictions to binary by saying they are true when 'ih' is the most likely prediction and false if any other vowel class is more likely.\n",
        "\n",
        "Recalculate the accuracy based on this. Are the results more to your liking?\n",
        "\n",
        "Repeat the above for each vowel class.\n",
        "\n",
        "Can you explain why the results seem better when they are put in this form?"
      ]
    },
    {
      "cell_type": "code",
      "metadata": {
        "id": "ojy_RSbJTcRv"
      },
      "source": [
        "# Re-define the accuracy method to\n",
        "def accuracy_binary(x, y, model):\n",
        "  correct = 0\n",
        "  x_var = Variable(x, requires_grad=False)\n",
        "  y_var = Variable(y, requires_grad=False)\n",
        "  y_hat = model(x_var.float())\n",
        "  y_var = y_var.long()\n",
        "  prediction_vowels_idx = []\n",
        "  prediction = y_hat.detach().numpy()\n",
        "  for i in range (prediction.shape[0]):\n",
        "    #Find the max output and append to the list\n",
        "    prediction_vowels_idx.append(np.where(prediction[i]==max(prediction[i])))\n",
        "  total = len(prediction_vowels_idx)\n",
        "  # For each of this 9 vowels\n",
        "  for vowel_idx in range(9):\n",
        "    for x in range(total):\n",
        "      prediction = prediction_vowels_idx[x][0][0]\n",
        "      actual = int(y_var[x])\n",
        "      prediction_boolean = False\n",
        "      actual_boolean = False\n",
        "      if prediction == vowel_idx:\n",
        "        prediction_boolean = True\n",
        "      if actual == vowel_idx:\n",
        "        actual_boolean = True\n",
        "      correct += 1 if prediction_boolean==actual_boolean else 0\n",
        "  return correct/(total*9)"
      ],
      "execution_count": null,
      "outputs": []
    },
    {
      "cell_type": "code",
      "metadata": {
        "colab": {
          "base_uri": "https://localhost:8080/"
        },
        "id": "-oOeb3853zXG",
        "outputId": "fc1c4204-da0f-4f02-d026-c734de2d0011"
      },
      "source": [
        "print(\"Accuracy(binary): \", accuracy_binary(x_test, y_test, model))"
      ],
      "execution_count": null,
      "outputs": [
        {
          "output_type": "stream",
          "text": [
            "Accuracy(binary):  0.9037037037037037\n"
          ],
          "name": "stdout"
        }
      ]
    },
    {
      "cell_type": "markdown",
      "metadata": {
        "id": "MXQFwtXhxE9z"
      },
      "source": [
        "**Accuracy(binary):  0.9037037037037037**"
      ]
    },
    {
      "cell_type": "markdown",
      "metadata": {
        "id": "dwZ1Ll0XBIKq"
      },
      "source": [
        "**The accuracy of using binary prediction increased significantly. I am guessing that asking the model to predict correctly out of 9 possible outputs is \"too much\". By reducing to binary prediction, we are reducing strict level of checking the accuracy.**"
      ]
    },
    {
      "cell_type": "markdown",
      "metadata": {
        "id": "Q7zoHaQrGgX0"
      },
      "source": [
        "---\n",
        "---\n",
        "\n",
        "# **Part 5: MLP experimentation (40 pts)**\n",
        "\n",
        "**5.1** Develop an experiment with 2 additional models by making variations of your model from Part 4 (e.g., widths, numbers of layers, activation functions, etc).   Create a short writeup explaining (1) why you chose the variations, and (2) how it affected performance on the test set."
      ]
    },
    {
      "cell_type": "markdown",
      "metadata": {
        "id": "uErXbC_Nfiwt"
      },
      "source": [
        "**Try with additional 100 neurons inside the hiden layer**"
      ]
    },
    {
      "cell_type": "code",
      "metadata": {
        "id": "NW1Ts-5CVBFy"
      },
      "source": [
        "# Adding additional 100 hid_dim\n",
        "class MLP_200_hid_dim(nn.Module):\n",
        "    def __init__(self, input_dim = 2, hid_dim=200, output_dim=9):\n",
        "        # initialze the superclass\n",
        "        super(MLP_200_hid_dim, self).__init__()\n",
        "        # this will create a linear layer with input_dim x hid_dim parameters\n",
        "        # in addition to a bias unit with hid_dim parameters\n",
        "        self.lin1 = nn.Linear(input_dim, hid_dim)\n",
        "        # same thing here except hid_dim x output_dim\n",
        "        self.lin2 = nn.Linear(hid_dim, output_dim)\n",
        "\n",
        "    # this is where the meat of the action is\n",
        "    def forward(self, x):\n",
        "        x = self.lin1(x)  # linear combination of inputs\n",
        "        x = torch.sigmoid(x) # then through sigmoid - output of first layer\n",
        "        x = self.lin2(x) # linear combination of hidden units\n",
        "        #x = torch.sigmoid(x) # then through sigmoid - net output\n",
        "        return x"
      ],
      "execution_count": null,
      "outputs": []
    },
    {
      "cell_type": "code",
      "metadata": {
        "id": "bLJNk1OzVTEs"
      },
      "source": [
        "model_200 = MLP_200_hid_dim()\n",
        "weights_init(model_200)\n",
        "loss_func = nn.CrossEntropyLoss() # Use Cross-Entropy Loss\n",
        "optimizer = optim.SGD(model_200.parameters(), lr=0.02, momentum=0.9)"
      ],
      "execution_count": null,
      "outputs": []
    },
    {
      "cell_type": "code",
      "metadata": {
        "colab": {
          "base_uri": "https://localhost:8080/"
        },
        "id": "zBW4IVpzVsn6",
        "outputId": "c8216806-8d68-458a-d9cc-d57f0873a9ca"
      },
      "source": [
        "training(x_train, y_train, 100001, model_200, loss_func, optimizer)"
      ],
      "execution_count": null,
      "outputs": [
        {
          "output_type": "stream",
          "text": [
            "Epoch: 0, Loss: 1.6820237636566162, \n",
            "Epoch: 5000, Loss: 0.7518801689147949, \n",
            "Epoch: 10000, Loss: 0.6522398591041565, \n",
            "Epoch: 15000, Loss: 0.5873250961303711, \n",
            "Epoch: 20000, Loss: 0.8905884623527527, \n",
            "Epoch: 25000, Loss: 0.8253548741340637, \n",
            "Epoch: 30000, Loss: 0.7055187821388245, \n",
            "Epoch: 35000, Loss: 0.6406406164169312, \n",
            "Epoch: 40000, Loss: 0.9512879848480225, \n",
            "Epoch: 45000, Loss: 0.7714471220970154, \n",
            "Epoch: 50000, Loss: 0.984805703163147, \n",
            "Epoch: 55000, Loss: 0.6296817660331726, \n",
            "Epoch: 60000, Loss: 0.7374804615974426, \n",
            "Epoch: 65000, Loss: 0.5970896482467651, \n",
            "Epoch: 70000, Loss: 1.0284204483032227, \n",
            "Epoch: 75000, Loss: 0.6023728251457214, \n",
            "Epoch: 80000, Loss: 0.9058880805969238, \n",
            "Epoch: 85000, Loss: 0.8674319386482239, \n",
            "Epoch: 90000, Loss: 0.8637554049491882, \n",
            "Epoch: 95000, Loss: 0.6872738599777222, \n",
            "Epoch: 100000, Loss: 0.9302160739898682, \n"
          ],
          "name": "stdout"
        }
      ]
    },
    {
      "cell_type": "markdown",
      "metadata": {
        "id": "Rhc7tw-w0VBZ"
      },
      "source": [
        "**The training took about 40 min.**\n",
        "\n",
        "Epoch: 0, Loss: 1.6820237636566162,<br>\n",
        "Epoch: 5000, Loss: 0.7518801689147949,<br>\n",
        "Epoch: 10000, Loss: 0.6522398591041565,<br>\n",
        "Epoch: 15000, Loss: 0.5873250961303711,<br>\n",
        "Epoch: 20000, Loss: 0.8905884623527527,<br>\n",
        "Epoch: 25000, Loss: 0.8253548741340637,<br>\n",
        "Epoch: 30000, Loss: 0.7055187821388245,<br>\n",
        "Epoch: 35000, Loss: 0.6406406164169312,<br>\n",
        "Epoch: 40000, Loss: 0.9512879848480225,<br>\n",
        "Epoch: 45000, Loss: 0.7714471220970154,<br>\n",
        "Epoch: 50000, Loss: 0.984805703163147,<br>\n",
        "Epoch: 55000, Loss: 0.6296817660331726,<br>\n",
        "Epoch: 60000, Loss: 0.7374804615974426,<br>\n",
        "Epoch: 65000, Loss: 0.5970896482467651,<br>\n",
        "Epoch: 70000, Loss: 1.0284204483032227,<br>\n",
        "Epoch: 75000, Loss: 0.6023728251457214,<br>\n",
        "Epoch: 80000, Loss: 0.9058880805969238,<br>\n",
        "Epoch: 85000, Loss: 0.8674319386482239,<br>\n",
        "Epoch: 90000, Loss: 0.8637554049491882,<br>\n",
        "Epoch: 95000, Loss: 0.6872738599777222,<br>\n",
        "Epoch: 100000, Loss: 0.9302160739898682,<br>  \n"
      ]
    },
    {
      "cell_type": "markdown",
      "metadata": {
        "id": "0P1Syc0j0j6c"
      },
      "source": [
        "**Compare with the original training result, the loss is a bit larger. I am guessing that by adding additional 100 neurons making the variation more narrow between 0.6 to 0.9.**"
      ]
    },
    {
      "cell_type": "code",
      "metadata": {
        "colab": {
          "base_uri": "https://localhost:8080/"
        },
        "id": "TzywuPSjV2lu",
        "outputId": "1cd8e781-0645-4156-e49c-a56aeb3f25e9"
      },
      "source": [
        "print(\"Accuracy: \", accuracy(x_test, y_test, model_200))"
      ],
      "execution_count": null,
      "outputs": [
        {
          "output_type": "stream",
          "text": [
            "Accuracy:  0.5641975308641975\n"
          ],
          "name": "stdout"
        }
      ]
    },
    {
      "cell_type": "markdown",
      "metadata": {
        "id": "MrWTVlLDyv6B"
      },
      "source": [
        "**Accuracy:  0.5641975308641975**"
      ]
    },
    {
      "cell_type": "markdown",
      "metadata": {
        "id": "j2VfGk7NgI0y"
      },
      "source": [
        "**Conclusion: the accuracy is really close to the original training model. So the conclusion is that adding more neurons is going to slow down the training process but may not help increase the accuracy.**"
      ]
    },
    {
      "cell_type": "markdown",
      "metadata": {
        "id": "1uDSElMagAm7"
      },
      "source": [
        "**Try with additional layer with 100 neurons**"
      ]
    },
    {
      "cell_type": "code",
      "metadata": {
        "id": "ZsqyANC5V8J4"
      },
      "source": [
        "# Second Model: adding a third layer\n",
        "class MLP_3_layers(nn.Module):\n",
        "    def __init__(self, input_dim = 2, hid_dim=100, hid_dim1=100, output_dim=9):\n",
        "        # initialze the superclass\n",
        "        super(MLP_3_layers, self).__init__()\n",
        "        # this will create a linear layer with input_dim x hid_dim parameters\n",
        "        # in addition to a bias unit with hid_dim parameters\n",
        "        self.lin1 = nn.Linear(input_dim, hid_dim)\n",
        "        # adding the second hid_dim\n",
        "        self.lin2 = nn.Linear(hid_dim, hid_dim1)\n",
        "        # same thing here except hid_dim x output_dim\n",
        "        self.lin3 = nn.Linear(hid_dim1, output_dim)\n",
        "\n",
        "    # this is where the meat of the action is\n",
        "    def forward(self, x):\n",
        "        x = self.lin1(x)  # linear combination of inputs\n",
        "        x = torch.sigmoid(x) # then through sigmoid - output of first layer\n",
        "        x = self.lin2(x) # linear combination of hidden units\n",
        "        x = torch.sigmoid(x) # then through sigmoid - output of second layer\n",
        "        x = self.lin3(x)\n",
        "        return x"
      ],
      "execution_count": null,
      "outputs": []
    },
    {
      "cell_type": "code",
      "metadata": {
        "id": "X7Yh9soDXw6y"
      },
      "source": [
        "model_3 = MLP_3_layers()\n",
        "weights_init(model_3)\n",
        "loss_func = nn.CrossEntropyLoss() # Use Cross-Entropy Loss\n",
        "optimizer = optim.SGD(model_3.parameters(), lr=0.02, momentum=0.9)"
      ],
      "execution_count": null,
      "outputs": []
    },
    {
      "cell_type": "code",
      "metadata": {
        "colab": {
          "base_uri": "https://localhost:8080/"
        },
        "id": "5XH6vDZLX6s6",
        "outputId": "5cc0b24d-f05e-47f1-c8a7-5ce0ad005d90"
      },
      "source": [
        "training(x_train, y_train, 100001, model_3, loss_func, optimizer)"
      ],
      "execution_count": null,
      "outputs": [
        {
          "output_type": "stream",
          "text": [
            "Epoch: 0, Loss: 1.5506434440612793, \n",
            "Epoch: 5000, Loss: 0.8083114624023438, \n",
            "Epoch: 10000, Loss: 0.6653637886047363, \n",
            "Epoch: 15000, Loss: 0.5831334590911865, \n",
            "Epoch: 20000, Loss: 1.0109078884124756, \n",
            "Epoch: 25000, Loss: 0.4947434067726135, \n",
            "Epoch: 30000, Loss: 0.6614319086074829, \n",
            "Epoch: 35000, Loss: 0.5337186455726624, \n",
            "Epoch: 40000, Loss: 0.8433821201324463, \n",
            "Epoch: 45000, Loss: 0.6798264980316162, \n",
            "Epoch: 50000, Loss: 0.546429455280304, \n",
            "Epoch: 55000, Loss: 0.5764268636703491, \n",
            "Epoch: 60000, Loss: 0.44126564264297485, \n",
            "Epoch: 65000, Loss: 0.29515376687049866, \n",
            "Epoch: 70000, Loss: 0.705916702747345, \n",
            "Epoch: 75000, Loss: 0.4354102909564972, \n",
            "Epoch: 80000, Loss: 0.6011602878570557, \n",
            "Epoch: 85000, Loss: 0.3160017728805542, \n",
            "Epoch: 90000, Loss: 0.4120662212371826, \n",
            "Epoch: 95000, Loss: 0.5332825779914856, \n",
            "Epoch: 100000, Loss: 0.5871472358703613, \n"
          ],
          "name": "stdout"
        }
      ]
    },
    {
      "cell_type": "markdown",
      "metadata": {
        "id": "oSlJ5oQo6Z9v"
      },
      "source": [
        "**The training took almost one hour:**\n",
        "\n",
        "Epoch: 0, Loss: 1.5506434440612793,<br>\n",
        "Epoch: 5000, Loss: 0.8083114624023438,<br>\n",
        "Epoch: 10000, Loss: 0.6653637886047363,<br>\n",
        "Epoch: 15000, Loss: 0.5831334590911865,<br>\n",
        "Epoch: 20000, Loss: 1.0109078884124756,<br>\n",
        "Epoch: 25000, Loss: 0.4947434067726135,<br>\n",
        "Epoch: 30000, Loss: 0.6614319086074829,<br>\n",
        "Epoch: 35000, Loss: 0.5337186455726624,<br>\n",
        "Epoch: 40000, Loss: 0.8433821201324463,<br>\n",
        "Epoch: 45000, Loss: 0.6798264980316162,<br>\n",
        "Epoch: 50000, Loss: 0.546429455280304,<br>\n",
        "Epoch: 55000, Loss: 0.5764268636703491,<br>\n",
        "Epoch: 60000, Loss: 0.44126564264297485,<br>\n",
        "Epoch: 65000, Loss: 0.29515376687049866,<br>\n",
        "Epoch: 70000, Loss: 0.705916702747345,<br>\n",
        "Epoch: 75000, Loss: 0.4354102909564972,<br>\n",
        "Epoch: 80000, Loss: 0.6011602878570557,<br>\n",
        "Epoch: 85000, Loss: 0.3160017728805542,<br>\n",
        "Epoch: 90000, Loss: 0.4120662212371826,<br>\n",
        "Epoch: 95000, Loss: 0.5332825779914856,<br>\n",
        "Epoch: 100000, Loss: 0.5871472358703613,"
      ]
    },
    {
      "cell_type": "markdown",
      "metadata": {
        "id": "-vlKfFL06neC"
      },
      "source": [
        "**By adding one additional layer, loss is getting smaller comparing to the original training.**"
      ]
    },
    {
      "cell_type": "code",
      "metadata": {
        "colab": {
          "base_uri": "https://localhost:8080/"
        },
        "id": "We7A13WWX8xg",
        "outputId": "9830641f-a443-4640-b4d3-5428f9492db4"
      },
      "source": [
        "print(\"Accuracy: \", accuracy(x_test, y_test, model_3))"
      ],
      "execution_count": null,
      "outputs": [
        {
          "output_type": "stream",
          "text": [
            "Accuracy:  0.5061728395061729\n"
          ],
          "name": "stdout"
        }
      ]
    },
    {
      "cell_type": "markdown",
      "metadata": {
        "id": "tMkV_X-MzL2B"
      },
      "source": [
        "**Accuracy:  0.5061728395061729**"
      ]
    },
    {
      "cell_type": "markdown",
      "metadata": {
        "id": "1FbXjhuHgNT2"
      },
      "source": [
        "**Conclusion: however, the accuracy decreases with one additional layer. I am guessing that adding the third layer is causing the model overfitting with the train data. So adding one layer is going to cause 1/3 more time to train. But the accuracy may not increase or even cause overfitting.**"
      ]
    }
  ]
}