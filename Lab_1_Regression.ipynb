{
  "nbformat": 4,
  "nbformat_minor": 0,
  "metadata": {
    "colab": {
      "provenance": []
    },
    "kernelspec": {
      "name": "python3",
      "display_name": "Python 3"
    }
  },
  "cells": [
    {
      "cell_type": "markdown",
      "metadata": {
        "id": "dTPwb8ny-hOU"
      },
      "source": [
        "**CSE 5522 Lab #1: Regression**\n",
        "\n",
        "**Author: Stephen Zheng zheng.1393**\n",
        "\n",
        "The goals of this lab are to familarize you with:\n",
        "\n",
        "*   Gradient descent\n",
        "*   Multivariate regression\n",
        "*   Logistic regression\n",
        "*   Data exploration\n",
        "\n",
        "**Initial notes**\n",
        "\n",
        "* (If you are using Google Colab) Make a copy of this page in your google drive so that you can edit it.\n",
        "\n",
        "* While not completely necessary for this assignment, you may want to familiarize yourself with the following packages: [numpy](https://numpy.org), [scikit-learn](https://scikit-learn.org), [pandas](https://pandas.pydata.org), [matplotlib](https://matplotlib.org).\n",
        " * Especially numpy, many of the calculations in this lab (and later) can be done in one line using numpy. Whereas raw python may require 5-10x that.\n",
        "\n",
        "* Feel free to (please do!) change the structure of the document below. Especially, add code sections to break your code into logical pieces and add text sections to explain your code or results\n",
        "\n",
        "---\n",
        "---\n"
      ]
    },
    {
      "cell_type": "markdown",
      "metadata": {
        "id": "EYMPnwak4xhX"
      },
      "source": [
        "\n",
        "**Part 1: Multivariate regression (20 pts)**\n",
        "\n",
        "In this part of the lab, you'll explore multivariate regression.  We'll use the *scikit-learn* linear regression tool (although you're welcome to extend your code from the hands-on).  The primary reason for this is that the sklearn routines will handle some of the normalization issues for you.\n",
        "\n",
        "Note: Some parts of this tutorial were based on [Argawal, Linear Regression on Boston Housing Dataset](https://towardsdatascience.com/linear-regression-on-boston-housing-dataset-f409b7e4a155).\n",
        "\n",
        "**1.0:** We'll be looking at the Boston Housing dataset which is built in to sklearn, but has more variables. Load the dataset in:"
      ]
    },
    {
      "cell_type": "code",
      "metadata": {
        "id": "fTzAMOTl4v_f"
      },
      "source": [
        "import matplotlib.pyplot as plt\n",
        "import pandas as pd\n",
        "import numpy as np\n",
        "from sklearn.datasets import load_boston\n",
        "boston_dataset=load_boston()"
      ],
      "execution_count": null,
      "outputs": []
    },
    {
      "cell_type": "markdown",
      "metadata": {
        "id": "csgSBR5w6FKq"
      },
      "source": [
        "**1.1** You can see a description of the dataset by printing the dataset's DESCR attribute (set by the sklearn.dataset package)."
      ]
    },
    {
      "cell_type": "code",
      "metadata": {
        "id": "Ez-qWyVI6CAL",
        "colab": {
          "base_uri": "https://localhost:8080/"
        },
        "outputId": "b04425a9-d5d7-4302-b9f1-f2e10982ef4e"
      },
      "source": [
        "print(boston_dataset.DESCR)"
      ],
      "execution_count": null,
      "outputs": [
        {
          "output_type": "stream",
          "text": [
            ".. _boston_dataset:\n",
            "\n",
            "Boston house prices dataset\n",
            "---------------------------\n",
            "\n",
            "**Data Set Characteristics:**  \n",
            "\n",
            "    :Number of Instances: 506 \n",
            "\n",
            "    :Number of Attributes: 13 numeric/categorical predictive. Median Value (attribute 14) is usually the target.\n",
            "\n",
            "    :Attribute Information (in order):\n",
            "        - CRIM     per capita crime rate by town\n",
            "        - ZN       proportion of residential land zoned for lots over 25,000 sq.ft.\n",
            "        - INDUS    proportion of non-retail business acres per town\n",
            "        - CHAS     Charles River dummy variable (= 1 if tract bounds river; 0 otherwise)\n",
            "        - NOX      nitric oxides concentration (parts per 10 million)\n",
            "        - RM       average number of rooms per dwelling\n",
            "        - AGE      proportion of owner-occupied units built prior to 1940\n",
            "        - DIS      weighted distances to five Boston employment centres\n",
            "        - RAD      index of accessibility to radial highways\n",
            "        - TAX      full-value property-tax rate per $10,000\n",
            "        - PTRATIO  pupil-teacher ratio by town\n",
            "        - B        1000(Bk - 0.63)^2 where Bk is the proportion of blacks by town\n",
            "        - LSTAT    % lower status of the population\n",
            "        - MEDV     Median value of owner-occupied homes in $1000's\n",
            "\n",
            "    :Missing Attribute Values: None\n",
            "\n",
            "    :Creator: Harrison, D. and Rubinfeld, D.L.\n",
            "\n",
            "This is a copy of UCI ML housing dataset.\n",
            "https://archive.ics.uci.edu/ml/machine-learning-databases/housing/\n",
            "\n",
            "\n",
            "This dataset was taken from the StatLib library which is maintained at Carnegie Mellon University.\n",
            "\n",
            "The Boston house-price data of Harrison, D. and Rubinfeld, D.L. 'Hedonic\n",
            "prices and the demand for clean air', J. Environ. Economics & Management,\n",
            "vol.5, 81-102, 1978.   Used in Belsley, Kuh & Welsch, 'Regression diagnostics\n",
            "...', Wiley, 1980.   N.B. Various transformations are used in the table on\n",
            "pages 244-261 of the latter.\n",
            "\n",
            "The Boston house-price data has been used in many machine learning papers that address regression\n",
            "problems.   \n",
            "     \n",
            ".. topic:: References\n",
            "\n",
            "   - Belsley, Kuh & Welsch, 'Regression diagnostics: Identifying Influential Data and Sources of Collinearity', Wiley, 1980. 244-261.\n",
            "   - Quinlan,R. (1993). Combining Instance-Based and Model-Based Learning. In Proceedings on the Tenth International Conference of Machine Learning, 236-243, University of Massachusetts, Amherst. Morgan Kaufmann.\n",
            "\n"
          ],
          "name": "stdout"
        }
      ]
    },
    {
      "cell_type": "markdown",
      "metadata": {
        "id": "w1czgqWq7N5d"
      },
      "source": [
        "**1.2:** We can convert this data into a pandas dataframe and then look at the first few rows in tabular form."
      ]
    },
    {
      "cell_type": "code",
      "metadata": {
        "id": "phA72blh6d_N",
        "colab": {
          "base_uri": "https://localhost:8080/",
          "height": 224
        },
        "outputId": "1198f627-5040-4190-c7fa-db58d6e6ace7"
      },
      "source": [
        "boston = pd.DataFrame(boston_dataset.data, columns=boston_dataset.feature_names)\n",
        "boston['MEDV']=boston_dataset.target\n",
        "boston.head()"
      ],
      "execution_count": null,
      "outputs": [
        {
          "output_type": "execute_result",
          "data": {
            "text/html": [
              "<div>\n",
              "<style scoped>\n",
              "    .dataframe tbody tr th:only-of-type {\n",
              "        vertical-align: middle;\n",
              "    }\n",
              "\n",
              "    .dataframe tbody tr th {\n",
              "        vertical-align: top;\n",
              "    }\n",
              "\n",
              "    .dataframe thead th {\n",
              "        text-align: right;\n",
              "    }\n",
              "</style>\n",
              "<table border=\"1\" class=\"dataframe\">\n",
              "  <thead>\n",
              "    <tr style=\"text-align: right;\">\n",
              "      <th></th>\n",
              "      <th>CRIM</th>\n",
              "      <th>ZN</th>\n",
              "      <th>INDUS</th>\n",
              "      <th>CHAS</th>\n",
              "      <th>NOX</th>\n",
              "      <th>RM</th>\n",
              "      <th>AGE</th>\n",
              "      <th>DIS</th>\n",
              "      <th>RAD</th>\n",
              "      <th>TAX</th>\n",
              "      <th>PTRATIO</th>\n",
              "      <th>B</th>\n",
              "      <th>LSTAT</th>\n",
              "      <th>MEDV</th>\n",
              "    </tr>\n",
              "  </thead>\n",
              "  <tbody>\n",
              "    <tr>\n",
              "      <th>0</th>\n",
              "      <td>0.00632</td>\n",
              "      <td>18.0</td>\n",
              "      <td>2.31</td>\n",
              "      <td>0.0</td>\n",
              "      <td>0.538</td>\n",
              "      <td>6.575</td>\n",
              "      <td>65.2</td>\n",
              "      <td>4.0900</td>\n",
              "      <td>1.0</td>\n",
              "      <td>296.0</td>\n",
              "      <td>15.3</td>\n",
              "      <td>396.90</td>\n",
              "      <td>4.98</td>\n",
              "      <td>24.0</td>\n",
              "    </tr>\n",
              "    <tr>\n",
              "      <th>1</th>\n",
              "      <td>0.02731</td>\n",
              "      <td>0.0</td>\n",
              "      <td>7.07</td>\n",
              "      <td>0.0</td>\n",
              "      <td>0.469</td>\n",
              "      <td>6.421</td>\n",
              "      <td>78.9</td>\n",
              "      <td>4.9671</td>\n",
              "      <td>2.0</td>\n",
              "      <td>242.0</td>\n",
              "      <td>17.8</td>\n",
              "      <td>396.90</td>\n",
              "      <td>9.14</td>\n",
              "      <td>21.6</td>\n",
              "    </tr>\n",
              "    <tr>\n",
              "      <th>2</th>\n",
              "      <td>0.02729</td>\n",
              "      <td>0.0</td>\n",
              "      <td>7.07</td>\n",
              "      <td>0.0</td>\n",
              "      <td>0.469</td>\n",
              "      <td>7.185</td>\n",
              "      <td>61.1</td>\n",
              "      <td>4.9671</td>\n",
              "      <td>2.0</td>\n",
              "      <td>242.0</td>\n",
              "      <td>17.8</td>\n",
              "      <td>392.83</td>\n",
              "      <td>4.03</td>\n",
              "      <td>34.7</td>\n",
              "    </tr>\n",
              "    <tr>\n",
              "      <th>3</th>\n",
              "      <td>0.03237</td>\n",
              "      <td>0.0</td>\n",
              "      <td>2.18</td>\n",
              "      <td>0.0</td>\n",
              "      <td>0.458</td>\n",
              "      <td>6.998</td>\n",
              "      <td>45.8</td>\n",
              "      <td>6.0622</td>\n",
              "      <td>3.0</td>\n",
              "      <td>222.0</td>\n",
              "      <td>18.7</td>\n",
              "      <td>394.63</td>\n",
              "      <td>2.94</td>\n",
              "      <td>33.4</td>\n",
              "    </tr>\n",
              "    <tr>\n",
              "      <th>4</th>\n",
              "      <td>0.06905</td>\n",
              "      <td>0.0</td>\n",
              "      <td>2.18</td>\n",
              "      <td>0.0</td>\n",
              "      <td>0.458</td>\n",
              "      <td>7.147</td>\n",
              "      <td>54.2</td>\n",
              "      <td>6.0622</td>\n",
              "      <td>3.0</td>\n",
              "      <td>222.0</td>\n",
              "      <td>18.7</td>\n",
              "      <td>396.90</td>\n",
              "      <td>5.33</td>\n",
              "      <td>36.2</td>\n",
              "    </tr>\n",
              "  </tbody>\n",
              "</table>\n",
              "</div>"
            ],
            "text/plain": [
              "      CRIM    ZN  INDUS  CHAS    NOX  ...    TAX  PTRATIO       B  LSTAT  MEDV\n",
              "0  0.00632  18.0   2.31   0.0  0.538  ...  296.0     15.3  396.90   4.98  24.0\n",
              "1  0.02731   0.0   7.07   0.0  0.469  ...  242.0     17.8  396.90   9.14  21.6\n",
              "2  0.02729   0.0   7.07   0.0  0.469  ...  242.0     17.8  392.83   4.03  34.7\n",
              "3  0.03237   0.0   2.18   0.0  0.458  ...  222.0     18.7  394.63   2.94  33.4\n",
              "4  0.06905   0.0   2.18   0.0  0.458  ...  222.0     18.7  396.90   5.33  36.2\n",
              "\n",
              "[5 rows x 14 columns]"
            ]
          },
          "metadata": {},
          "execution_count": 2
        }
      ]
    },
    {
      "cell_type": "markdown",
      "metadata": {
        "id": "kIynx6z4AA3I"
      },
      "source": [
        "**1.3:** At this point, we want to figure out what variables are good predictors of the median value of a house in Boston.  We can find the relationship between single variables by looking at the correlation between variables.  \n",
        "\n",
        "---\n",
        "\n",
        "*Side note: the correlation between two vectors of variables x and y is*\n",
        "```\n",
        "1/(n-1) sum x*y\n",
        "```\n",
        "*assuming that x and y have zero mean and a standard gaussian distribution (which you can achieve by subtracting the mean and dividing by the standard deviation).  If x and y always share the same sign, then this value will be positive; if x and y are always opposite sign then the correlation is negative.*\n",
        "\n",
        "---\n",
        "\n",
        "The sklearn.datasets class has a built in correlation function, which we can use to compute the correlation between each pair of variables.  We can also use the seaborn package to plot a nice heatmap of these variables.\n",
        "\n",
        "**What's the most correlated variable with MEDV?**\n"
      ]
    },
    {
      "cell_type": "code",
      "metadata": {
        "id": "mpPMqeZ37esY",
        "colab": {
          "base_uri": "https://localhost:8080/",
          "height": 504
        },
        "outputId": "8fea232c-9b7b-4a0f-fd10-a5c614eb2f44"
      },
      "source": [
        "import seaborn as sb\n",
        "\n",
        "correlation_matrix = boston.corr().round(2)\n",
        "plt.figure(figsize=(10,8))\n",
        "sb.heatmap(data=correlation_matrix, annot=True, center=0.0, cmap='coolwarm')"
      ],
      "execution_count": null,
      "outputs": [
        {
          "output_type": "execute_result",
          "data": {
            "text/plain": [
              "<matplotlib.axes._subplots.AxesSubplot at 0x7f5f52f17890>"
            ]
          },
          "metadata": {},
          "execution_count": 3
        },
        {
          "output_type": "display_data",
          "data": {
            "image/png": "[encoded data removed]",
            "text/plain": [
              "<Figure size 720x576 with 2 Axes>"
            ]
          },
          "metadata": {
            "needs_background": "light"
          }
        }
      ]
    },
    {
      "cell_type": "markdown",
      "metadata": {
        "id": "hN-4LVKcM3Hp"
      },
      "source": [
        "Note that the most correlated variable is LSTAT (at -0.74) and not RM (0.70) - while the correlation is negative, it just means that there is an inverse relationship between LSTAT and MEDV (when LSTAT goes up, MEDV goes down), but LSTAT should be the single best predictor.\n",
        "\n",
        "**1.4:** Now, we kind of cheated there, since we figured out the correlation on the entire dataset.  A better practice is to randomly select training and test sets, fit the data on the training set, and then evaluate on the test set.  Let's see if LSTAT really is a better predictor than RM of MEDV."
      ]
    },
    {
      "cell_type": "code",
      "metadata": {
        "id": "rHsrFaJf8WvS"
      },
      "source": [
        "from sklearn.linear_model import LinearRegression\n",
        "from sklearn.model_selection import train_test_split\n",
        "from sklearn.metrics import mean_squared_error, r2_score\n",
        "\n",
        "# first, set up dataframe for all variables\n",
        "boston_totaldata = pd.DataFrame(boston_dataset.data, columns=boston_dataset.feature_names)\n",
        "boston_totaltarget = boston_dataset.target\n",
        "boston_traindata, boston_testdata, boston_traintarget, boston_testtarget = train_test_split(boston_totaldata,\n",
        "                                                                                           boston_totaltarget,\n",
        "                                                                                           test_size=0.2,\n",
        "                                                                                           random_state=5)\n",
        "#\"random_state\" sets the random seed used when dividing the datasets. Setting it to a fixed number like this means\n",
        "#we will get the same \"random\" split every time. If you truly want random, remove this argument"
      ],
      "execution_count": null,
      "outputs": []
    },
    {
      "cell_type": "code",
      "metadata": {
        "colab": {
          "base_uri": "https://localhost:8080/",
          "height": 439
        },
        "id": "saEAvnCMA6--",
        "outputId": "166fdb7b-35e6-4335-fffe-0d19be4f1a31"
      },
      "source": [],
      "execution_count": null,
      "outputs": [
        {
          "output_type": "execute_result",
          "data": {
            "text/html": [
              "<div>\n",
              "<style scoped>\n",
              "    .dataframe tbody tr th:only-of-type {\n",
              "        vertical-align: middle;\n",
              "    }\n",
              "\n",
              "    .dataframe tbody tr th {\n",
              "        vertical-align: top;\n",
              "    }\n",
              "\n",
              "    .dataframe thead th {\n",
              "        text-align: right;\n",
              "    }\n",
              "</style>\n",
              "<table border=\"1\" class=\"dataframe\">\n",
              "  <thead>\n",
              "    <tr style=\"text-align: right;\">\n",
              "      <th></th>\n",
              "      <th>CRIM</th>\n",
              "      <th>ZN</th>\n",
              "      <th>INDUS</th>\n",
              "      <th>CHAS</th>\n",
              "      <th>NOX</th>\n",
              "      <th>RM</th>\n",
              "      <th>AGE</th>\n",
              "      <th>DIS</th>\n",
              "      <th>RAD</th>\n",
              "      <th>TAX</th>\n",
              "      <th>PTRATIO</th>\n",
              "      <th>B</th>\n",
              "      <th>LSTAT</th>\n",
              "    </tr>\n",
              "  </thead>\n",
              "  <tbody>\n",
              "    <tr>\n",
              "      <th>33</th>\n",
              "      <td>1.15172</td>\n",
              "      <td>0.0</td>\n",
              "      <td>8.14</td>\n",
              "      <td>0.0</td>\n",
              "      <td>0.538</td>\n",
              "      <td>5.701</td>\n",
              "      <td>95.0</td>\n",
              "      <td>3.7872</td>\n",
              "      <td>4.0</td>\n",
              "      <td>307.0</td>\n",
              "      <td>21.0</td>\n",
              "      <td>358.77</td>\n",
              "      <td>18.35</td>\n",
              "    </tr>\n",
              "    <tr>\n",
              "      <th>283</th>\n",
              "      <td>0.01501</td>\n",
              "      <td>90.0</td>\n",
              "      <td>1.21</td>\n",
              "      <td>1.0</td>\n",
              "      <td>0.401</td>\n",
              "      <td>7.923</td>\n",
              "      <td>24.8</td>\n",
              "      <td>5.8850</td>\n",
              "      <td>1.0</td>\n",
              "      <td>198.0</td>\n",
              "      <td>13.6</td>\n",
              "      <td>395.52</td>\n",
              "      <td>3.16</td>\n",
              "    </tr>\n",
              "    <tr>\n",
              "      <th>418</th>\n",
              "      <td>73.53410</td>\n",
              "      <td>0.0</td>\n",
              "      <td>18.10</td>\n",
              "      <td>0.0</td>\n",
              "      <td>0.679</td>\n",
              "      <td>5.957</td>\n",
              "      <td>100.0</td>\n",
              "      <td>1.8026</td>\n",
              "      <td>24.0</td>\n",
              "      <td>666.0</td>\n",
              "      <td>20.2</td>\n",
              "      <td>16.45</td>\n",
              "      <td>20.62</td>\n",
              "    </tr>\n",
              "    <tr>\n",
              "      <th>502</th>\n",
              "      <td>0.04527</td>\n",
              "      <td>0.0</td>\n",
              "      <td>11.93</td>\n",
              "      <td>0.0</td>\n",
              "      <td>0.573</td>\n",
              "      <td>6.120</td>\n",
              "      <td>76.7</td>\n",
              "      <td>2.2875</td>\n",
              "      <td>1.0</td>\n",
              "      <td>273.0</td>\n",
              "      <td>21.0</td>\n",
              "      <td>396.90</td>\n",
              "      <td>9.08</td>\n",
              "    </tr>\n",
              "    <tr>\n",
              "      <th>402</th>\n",
              "      <td>9.59571</td>\n",
              "      <td>0.0</td>\n",
              "      <td>18.10</td>\n",
              "      <td>0.0</td>\n",
              "      <td>0.693</td>\n",
              "      <td>6.404</td>\n",
              "      <td>100.0</td>\n",
              "      <td>1.6390</td>\n",
              "      <td>24.0</td>\n",
              "      <td>666.0</td>\n",
              "      <td>20.2</td>\n",
              "      <td>376.11</td>\n",
              "      <td>20.31</td>\n",
              "    </tr>\n",
              "    <tr>\n",
              "      <th>...</th>\n",
              "      <td>...</td>\n",
              "      <td>...</td>\n",
              "      <td>...</td>\n",
              "      <td>...</td>\n",
              "      <td>...</td>\n",
              "      <td>...</td>\n",
              "      <td>...</td>\n",
              "      <td>...</td>\n",
              "      <td>...</td>\n",
              "      <td>...</td>\n",
              "      <td>...</td>\n",
              "      <td>...</td>\n",
              "      <td>...</td>\n",
              "    </tr>\n",
              "    <tr>\n",
              "      <th>486</th>\n",
              "      <td>5.69175</td>\n",
              "      <td>0.0</td>\n",
              "      <td>18.10</td>\n",
              "      <td>0.0</td>\n",
              "      <td>0.583</td>\n",
              "      <td>6.114</td>\n",
              "      <td>79.8</td>\n",
              "      <td>3.5459</td>\n",
              "      <td>24.0</td>\n",
              "      <td>666.0</td>\n",
              "      <td>20.2</td>\n",
              "      <td>392.68</td>\n",
              "      <td>14.98</td>\n",
              "    </tr>\n",
              "    <tr>\n",
              "      <th>189</th>\n",
              "      <td>0.08370</td>\n",
              "      <td>45.0</td>\n",
              "      <td>3.44</td>\n",
              "      <td>0.0</td>\n",
              "      <td>0.437</td>\n",
              "      <td>7.185</td>\n",
              "      <td>38.9</td>\n",
              "      <td>4.5667</td>\n",
              "      <td>5.0</td>\n",
              "      <td>398.0</td>\n",
              "      <td>15.2</td>\n",
              "      <td>396.90</td>\n",
              "      <td>5.39</td>\n",
              "    </tr>\n",
              "    <tr>\n",
              "      <th>495</th>\n",
              "      <td>0.17899</td>\n",
              "      <td>0.0</td>\n",
              "      <td>9.69</td>\n",
              "      <td>0.0</td>\n",
              "      <td>0.585</td>\n",
              "      <td>5.670</td>\n",
              "      <td>28.8</td>\n",
              "      <td>2.7986</td>\n",
              "      <td>6.0</td>\n",
              "      <td>391.0</td>\n",
              "      <td>19.2</td>\n",
              "      <td>393.29</td>\n",
              "      <td>17.60</td>\n",
              "    </tr>\n",
              "    <tr>\n",
              "      <th>206</th>\n",
              "      <td>0.22969</td>\n",
              "      <td>0.0</td>\n",
              "      <td>10.59</td>\n",
              "      <td>0.0</td>\n",
              "      <td>0.489</td>\n",
              "      <td>6.326</td>\n",
              "      <td>52.5</td>\n",
              "      <td>4.3549</td>\n",
              "      <td>4.0</td>\n",
              "      <td>277.0</td>\n",
              "      <td>18.6</td>\n",
              "      <td>394.87</td>\n",
              "      <td>10.97</td>\n",
              "    </tr>\n",
              "    <tr>\n",
              "      <th>355</th>\n",
              "      <td>0.10659</td>\n",
              "      <td>80.0</td>\n",
              "      <td>1.91</td>\n",
              "      <td>0.0</td>\n",
              "      <td>0.413</td>\n",
              "      <td>5.936</td>\n",
              "      <td>19.5</td>\n",
              "      <td>10.5857</td>\n",
              "      <td>4.0</td>\n",
              "      <td>334.0</td>\n",
              "      <td>22.0</td>\n",
              "      <td>376.04</td>\n",
              "      <td>5.57</td>\n",
              "    </tr>\n",
              "  </tbody>\n",
              "</table>\n",
              "<p>404 rows × 13 columns</p>\n",
              "</div>"
            ],
            "text/plain": [
              "         CRIM    ZN  INDUS  CHAS    NOX  ...   RAD    TAX  PTRATIO       B  LSTAT\n",
              "33    1.15172   0.0   8.14   0.0  0.538  ...   4.0  307.0     21.0  358.77  18.35\n",
              "283   0.01501  90.0   1.21   1.0  0.401  ...   1.0  198.0     13.6  395.52   3.16\n",
              "418  73.53410   0.0  18.10   0.0  0.679  ...  24.0  666.0     20.2   16.45  20.62\n",
              "502   0.04527   0.0  11.93   0.0  0.573  ...   1.0  273.0     21.0  396.90   9.08\n",
              "402   9.59571   0.0  18.10   0.0  0.693  ...  24.0  666.0     20.2  376.11  20.31\n",
              "..        ...   ...    ...   ...    ...  ...   ...    ...      ...     ...    ...\n",
              "486   5.69175   0.0  18.10   0.0  0.583  ...  24.0  666.0     20.2  392.68  14.98\n",
              "189   0.08370  45.0   3.44   0.0  0.437  ...   5.0  398.0     15.2  396.90   5.39\n",
              "495   0.17899   0.0   9.69   0.0  0.585  ...   6.0  391.0     19.2  393.29  17.60\n",
              "206   0.22969   0.0  10.59   0.0  0.489  ...   4.0  277.0     18.6  394.87  10.97\n",
              "355   0.10659  80.0   1.91   0.0  0.413  ...   4.0  334.0     22.0  376.04   5.57\n",
              "\n",
              "[404 rows x 13 columns]"
            ]
          },
          "metadata": {},
          "execution_count": 7
        }
      ]
    },
    {
      "cell_type": "code",
      "metadata": {
        "id": "r8roAOT6Pd0f",
        "colab": {
          "base_uri": "https://localhost:8080/"
        },
        "outputId": "baa5c2a6-bd58-482a-e0e6-4f7ac640afcc"
      },
      "source": [
        "boston_testdata.shape"
      ],
      "execution_count": null,
      "outputs": [
        {
          "output_type": "execute_result",
          "data": {
            "text/plain": [
              "(102, 13)"
            ]
          },
          "metadata": {},
          "execution_count": 9
        }
      ]
    },
    {
      "cell_type": "code",
      "metadata": {
        "id": "IF_qw_msPkkJ",
        "colab": {
          "base_uri": "https://localhost:8080/"
        },
        "outputId": "fc96e541-17fb-46d3-cb2c-02eeaa36bfc5"
      },
      "source": [
        "# subselect LSTAT data, train model\n",
        "#   note the double square brackets - need 2-dimensional array to come out of selection\n",
        "lstat_traindata=boston_traindata[['LSTAT']]\n",
        "lstat_testdata=boston_testdata[['LSTAT']]\n",
        "lin_model = LinearRegression()\n",
        "lin_model.fit(lstat_traindata,boston_traintarget)"
      ],
      "execution_count": null,
      "outputs": [
        {
          "output_type": "execute_result",
          "data": {
            "text/plain": [
              "LinearRegression(copy_X=True, fit_intercept=True, n_jobs=None, normalize=False)"
            ]
          },
          "metadata": {},
          "execution_count": 12
        }
      ]
    },
    {
      "cell_type": "code",
      "metadata": {
        "colab": {
          "base_uri": "https://localhost:8080/",
          "height": 419
        },
        "id": "GJwWNs1MGYbO",
        "outputId": "0af296cb-dd31-4a06-8487-4cfd3bb12795"
      },
      "source": [
        "lstat_testdata"
      ],
      "execution_count": null,
      "outputs": [
        {
          "output_type": "execute_result",
          "data": {
            "text/html": [
              "<div>\n",
              "<style scoped>\n",
              "    .dataframe tbody tr th:only-of-type {\n",
              "        vertical-align: middle;\n",
              "    }\n",
              "\n",
              "    .dataframe tbody tr th {\n",
              "        vertical-align: top;\n",
              "    }\n",
              "\n",
              "    .dataframe thead th {\n",
              "        text-align: right;\n",
              "    }\n",
              "</style>\n",
              "<table border=\"1\" class=\"dataframe\">\n",
              "  <thead>\n",
              "    <tr style=\"text-align: right;\">\n",
              "      <th></th>\n",
              "      <th>LSTAT</th>\n",
              "    </tr>\n",
              "  </thead>\n",
              "  <tbody>\n",
              "    <tr>\n",
              "      <th>226</th>\n",
              "      <td>3.13</td>\n",
              "    </tr>\n",
              "    <tr>\n",
              "      <th>292</th>\n",
              "      <td>4.70</td>\n",
              "    </tr>\n",
              "    <tr>\n",
              "      <th>90</th>\n",
              "      <td>8.81</td>\n",
              "    </tr>\n",
              "    <tr>\n",
              "      <th>373</th>\n",
              "      <td>34.77</td>\n",
              "    </tr>\n",
              "    <tr>\n",
              "      <th>273</th>\n",
              "      <td>6.58</td>\n",
              "    </tr>\n",
              "    <tr>\n",
              "      <th>...</th>\n",
              "      <td>...</td>\n",
              "    </tr>\n",
              "    <tr>\n",
              "      <th>349</th>\n",
              "      <td>5.89</td>\n",
              "    </tr>\n",
              "    <tr>\n",
              "      <th>212</th>\n",
              "      <td>16.03</td>\n",
              "    </tr>\n",
              "    <tr>\n",
              "      <th>156</th>\n",
              "      <td>16.14</td>\n",
              "    </tr>\n",
              "    <tr>\n",
              "      <th>480</th>\n",
              "      <td>10.74</td>\n",
              "    </tr>\n",
              "    <tr>\n",
              "      <th>248</th>\n",
              "      <td>9.52</td>\n",
              "    </tr>\n",
              "  </tbody>\n",
              "</table>\n",
              "<p>102 rows × 1 columns</p>\n",
              "</div>"
            ],
            "text/plain": [
              "     LSTAT\n",
              "226   3.13\n",
              "292   4.70\n",
              "90    8.81\n",
              "373  34.77\n",
              "273   6.58\n",
              "..     ...\n",
              "349   5.89\n",
              "212  16.03\n",
              "156  16.14\n",
              "480  10.74\n",
              "248   9.52\n",
              "\n",
              "[102 rows x 1 columns]"
            ]
          },
          "metadata": {},
          "execution_count": 13
        }
      ]
    },
    {
      "cell_type": "code",
      "metadata": {
        "id": "AWDGQYlsQpqX",
        "colab": {
          "base_uri": "https://localhost:8080/"
        },
        "outputId": "5a50b7e1-32b6-4461-f87f-d191e2537d11"
      },
      "source": [
        "lstat_testpredict=lin_model.predict(lstat_testdata)\n",
        "rmse = (np.sqrt(mean_squared_error(boston_testtarget,lstat_testpredict)))\n",
        "r2 = r2_score(boston_testtarget,lstat_testpredict)\n",
        "print('Test RMSE = {}, Test R2 = {}'.format(rmse,r2))"
      ],
      "execution_count": null,
      "outputs": [
        {
          "output_type": "stream",
          "text": [
            "Test RMSE = 6.2307165730986815, Test R2 = 0.5041523728903132\n"
          ],
          "name": "stdout"
        }
      ]
    },
    {
      "cell_type": "markdown",
      "metadata": {
        "id": "4Uxds-NwjrVZ"
      },
      "source": [
        "*Note:* We do no normalizing here because sklearn will do it for us, if necessary\n",
        "\n",
        "R2 is the amount of variation explained by the model, and can range from 0 (no variance explained) to 1 (perfect explanation).\n",
        "\n",
        "*Something for you to think about:* Notice that R2 is much lower than the correlation coefficient.  Why? (There are 2 reasons.)\n",
        "\n",
        "**1.4a:** Let's do it again for RM (this time, you calculate it)."
      ]
    },
    {
      "cell_type": "code",
      "metadata": {
        "id": "8MpXx-55QsBG",
        "colab": {
          "base_uri": "https://localhost:8080/"
        },
        "outputId": "29f41f9d-b982-4940-e5bc-9bad6bb4158a"
      },
      "source": [
        "# Copy and modify the example above to predict using RM (instead of LSTAT)\n",
        "# Of course, also calculate RMSE and R2 for the new prediction\n",
        "rm_traindata = boston_traindata[['RM']]\n",
        "rm_testdata = boston_testdata[['RM']]\n",
        "lin_model = LinearRegression()\n",
        "lin_model.fit(rm_traindata, boston_traintarget)\n",
        "\n",
        "rm_testpredict = lin_model.predict(rm_testdata)\n",
        "rmse = (np.sqrt(mean_squared_error(boston_testtarget, rm_testpredict)))\n",
        "r2 = r2_score(boston_testtarget, rm_testpredict)\n",
        "print('Test RMSE = {}, Test R2 = {}'.format(rmse, r2))"
      ],
      "execution_count": null,
      "outputs": [
        {
          "output_type": "stream",
          "text": [
            "Test RMSE = 4.895963186952216, Test R2 = 0.6938399401553497\n"
          ],
          "name": "stdout"
        }
      ]
    },
    {
      "cell_type": "markdown",
      "metadata": {
        "id": "3pJ13awBkk3-"
      },
      "source": [
        "(Note: answers for why R2 is lower that correlation is that (a) it's roughly the square of correlation, and also (b) we calculated correlation on the entire training set; R2 was calculated on test only.)"
      ]
    },
    {
      "cell_type": "markdown",
      "metadata": {
        "id": "By0YSrH8k8CQ"
      },
      "source": [
        "**1.5:** At this point, you can start to look at how to predict from multiple variables.  What are the two best variables in predicting as measured by R2? (Try every possible variable pair.)\n",
        "\n",
        "Answer: According to the result RM and TAX has the highest R2 score with 0.7499.\n",
        "\n",
        "Are the results better than predicting using all variables?\n",
        "\n",
        "Answer: The result is better than predicting using all variable, since the r2 score with all variables is 0.7334."
      ]
    },
    {
      "cell_type": "code",
      "metadata": {
        "id": "8cHvWvcrnQ-I"
      },
      "source": [
        "# Rebuild your previous training method to do two variable/feature prediction.\n",
        "# Loop over and train models for every possible pair\n",
        "for i in range(13):\n",
        "  for j in range (13):\n",
        "    if i == j:\n",
        "      continue\n",
        "    multi_traindata = boston_traindata.iloc[:, [i, j]]\n",
        "    multi_testdata = boston_testdata.iloc[:, [i, j]]\n",
        "    lin_model = LinearRegression()\n",
        "    lin_model.fit(multi_traindata, boston_traintarget)\n",
        "\n",
        "    multi_testpredict = lin_model.predict(multi_testdata)\n",
        "    rmse = (np.sqrt(mean_squared_error(boston_testtarget, multi_testpredict)))\n",
        "    r2 = r2_score(boston_testtarget, multi_testpredict)\n",
        "    print('Predict from {} and {}'.format(multi_traindata.columns[0], multi_traindata.columns[1]))\n",
        "    print('Test RMSE = {}, Test R2 = {}'.format(rmse, r2))\n",
        "    print('---------------------------')\n",
        "\n",
        "# Test with all vars\n",
        "lin_model = LinearRegression()\n",
        "lin_model.fit(boston_traindata, boston_traintarget)\n",
        "testpredict = lin_model.predict(boston_testdata)\n",
        "rmse = (np.sqrt(mean_squared_error(boston_testtarget, testpredict)))\n",
        "r2 = r2_score(boston_testtarget, testpredict)\n",
        "print('All VARS Test RMSE = {}, Test R2 = {}'.format(rmse, r2))"
      ],
      "execution_count": null,
      "outputs": []
    },
    {
      "cell_type": "markdown",
      "metadata": {
        "id": "V7FHp8Qn2zOl"
      },
      "source": [
        "---\n",
        "---\n",
        "**Part 2: Predicting Gene Expression (40 pts)**\n",
        "\n",
        "There are ~20,000 genes in the human genome. Each one of them is transcribed to mRNA and then translated to proteins which carry on various tasks inside our body. We can measure the amount of 20,000 mRNA expressed in samples collected from different organs. This collection is called _gene expression profile_.\n",
        "\n",
        "Although our genome is the same across all cell types, the gene expression profile is different because each organ needs different proteins for its survival. One of the regulatory mechanisms which controls the expression level in each cell type is microRNA (miR). MicroRNAs are small molecules which attach to mRNAs and prevent them from translation to proteins and also degrade them.\n",
        "\n",
        "So if miR A targets mRNA B when A increases B decreases. Our goal is to predict mRNA levels (gene expression profile) using 21 miR features. Note that each of the 20,000 expression levels can be a response of regression with 21 features. To simplify, we have selected a few genes to predict their expression.\n",
        "\n",
        "Your job will be to investigate how well the miR values predict the mRNA values.  \n",
        "\n",
        "You are recommended to use the sklearn.linear_model package to conduct linear regression experiments, but you may use other packages if you wish.  \n",
        "\n",
        "**Instructions:** Load the data from GitHub (example code given).\n",
        "\n",
        "**Hint:** Part 1 of this lab (Boston Housing) has examples of how to do almost everything you need for this part. Please review it carefully."
      ]
    },
    {
      "cell_type": "code",
      "metadata": {
        "id": "Hu-wHw6wFTYv"
      },
      "source": [
        "miR_URL='https://raw.githubusercontent.com/efosler/cse5522data/master/miRScore-x.csv'\n",
        "miR_df=pd.read_csv(miR_URL, index_col=0)\n",
        "# remove row names from the first column, rows=samples, cols=miR features\n",
        "miR = np.array(miR_df)[:,:]\n",
        "\n",
        "\n",
        "\n",
        "\n",
        "mRNA_well_URL='https://raw.githubusercontent.com/efosler/cse5522data/master/mRNA-y-well-explained.csv'\n",
        "mRNA_well_df=pd.read_csv(mRNA_well_URL, index_col = 0)\n",
        "mRNA_well_df=mRNA_well_df.transpose()\n",
        "# remove label column, transpose with rows=samples, cols=mRNA\n",
        "mRNA_well = np.array(mRNA_well_df)[:,:]\n",
        "\n",
        "\n",
        "mRNA_poor_URL='https://raw.githubusercontent.com/efosler/cse5522data/master/mRNA-y-poor-explained.csv'\n",
        "mRNA_poor_df=pd.read_csv(mRNA_poor_URL, index_col = 0)\n",
        "mRNA_poor_df=mRNA_poor_df.transpose()\n",
        "# remove label column, transpose with rows=samples, cols=mRNA\n",
        "mRNA_poor = np.array(mRNA_poor_df)[:,:]\n"
      ],
      "execution_count": null,
      "outputs": []
    },
    {
      "cell_type": "code",
      "metadata": {
        "id": "BykdSFUZe7pf"
      },
      "source": [
        "#print('miR:\\n{}'.format(miR))\n",
        "#print('mRNA_well:\\n{}'.format(mRNA_well))\n",
        "#print('mRNA_poor:\\n{}'.format(mRNA_poor))"
      ],
      "execution_count": null,
      "outputs": []
    },
    {
      "cell_type": "code",
      "metadata": {
        "colab": {
          "base_uri": "https://localhost:8080/"
        },
        "id": "AzwZSGO3g-3E",
        "outputId": "d25ae7f2-5c59-47bd-b5bb-f5f76629c469"
      },
      "source": [
        "#miR.shape"
      ],
      "execution_count": null,
      "outputs": [
        {
          "output_type": "execute_result",
          "data": {
            "text/plain": [
              "(8895, 21)"
            ]
          },
          "metadata": {
            "tags": []
          },
          "execution_count": 87
        }
      ]
    },
    {
      "cell_type": "code",
      "metadata": {
        "colab": {
          "base_uri": "https://localhost:8080/"
        },
        "id": "XxXbBKOLhUlw",
        "outputId": "ae2e4fbc-a47a-42fe-a127-fdef0def0519"
      },
      "source": [
        "#mRNA_well.shape"
      ],
      "execution_count": null,
      "outputs": [
        {
          "output_type": "execute_result",
          "data": {
            "text/plain": [
              "(8895, 35)"
            ]
          },
          "metadata": {
            "tags": []
          },
          "execution_count": 88
        }
      ]
    },
    {
      "cell_type": "code",
      "metadata": {
        "colab": {
          "base_uri": "https://localhost:8080/"
        },
        "id": "4DetksMZhf8z",
        "outputId": "63572e0c-ea1c-43c3-ad5b-f28a934ca1f1"
      },
      "source": [
        "#mRNA_poor.shape"
      ],
      "execution_count": null,
      "outputs": [
        {
          "output_type": "execute_result",
          "data": {
            "text/plain": [
              "(8895, 20)"
            ]
          },
          "metadata": {
            "tags": []
          },
          "execution_count": 90
        }
      ]
    },
    {
      "cell_type": "code",
      "metadata": {
        "id": "Rf4DJd9NawOq"
      },
      "source": [
        "#miR_df.head()"
      ],
      "execution_count": null,
      "outputs": []
    },
    {
      "cell_type": "code",
      "metadata": {
        "id": "F-BlO5P-bIT4"
      },
      "source": [
        "#mRNA_well_df.head()\n"
      ],
      "execution_count": null,
      "outputs": []
    },
    {
      "cell_type": "code",
      "metadata": {
        "id": "P2hiPYaZch-5"
      },
      "source": [
        "#mRNA_poor_df.head()\n"
      ],
      "execution_count": null,
      "outputs": []
    },
    {
      "cell_type": "markdown",
      "metadata": {
        "id": "4r6mQ3apXE89"
      },
      "source": [
        "You should randomly divide the samples into 80/20 training/test splits, and repeat the experiment 10 times to give mean and standard deviation of the metrics.\n",
        "\n",
        "**2.1:** Using the *miR* features, predict each of the well-expressed (*mRNA_well*) and poorly-expressed (*mRNA_poor*) genes with a linear model. This means you will be solving 55 separate linear regression problems (one each for 35 well-expressed + 20 poorly expressed).\n",
        "\n",
        "Perform 10 experiments of the above using a different training/test split each time. Report the the mean and standard deviation (over the 10 experiments) for each of the 55 mRNA targets for both the R2 and RMSE metrics.\n",
        "\n",
        "*Note:* This means in total you will be building/training 550 different models!"
      ]
    },
    {
      "cell_type": "code",
      "metadata": {
        "id": "xFD0JpVzLTps"
      },
      "source": [
        "# Carry on from this point on your own, using the Boston Housing problem as a guide\n",
        "mRNA_well_error = {}\n",
        "mRNA_poor_error = {}\n",
        "for _ in range(10):\n",
        "  mRNA_well_rmse_list = np.array([])\n",
        "  mRNA_well_r2_list = np.array([])\n",
        "  mRNA_poor_rmse_list = np.array([])\n",
        "  mRNA_poor_r2_list = np.array([])\n",
        "  miR_traindata, miR_testdata = train_test_split(miR_df, test_size = 0.2)\n",
        "  mRNA_well_traindata, mRNA_well_testdata = train_test_split(mRNA_well_df, test_size = 0.2)\n",
        "  mRNA_poor_traindata, mRNA_poor_testdata = train_test_split(mRNA_poor_df, test_size = 0.2)\n",
        "  for column in mRNA_well_df:\n",
        "    mRNA_well_traintarget = mRNA_well_traindata[column]\n",
        "    mRNA_well_testtarget = mRNA_well_testdata[column]\n",
        "    lin_model = LinearRegression()\n",
        "    lin_model.fit(miR_traindata, mRNA_well_traintarget)\n",
        "    miR_testpredict = lin_model.predict(miR_testdata)\n",
        "    rmse = (np.sqrt(mean_squared_error(mRNA_well_testtarget, miR_testpredict)))\n",
        "    r2 = r2_score(mRNA_well_testtarget, miR_testpredict)\n",
        "\n",
        "    mRNA_well_rmse_list = np.append(mRNA_well_rmse_list, rmse)\n",
        "    mRNA_well_r2_list = np.append(mRNA_well_r2_list, r2)\n",
        "\n",
        "    tests = {\n",
        "        'mRNA_well_rmse_avg' : np.average(mRNA_well_rmse_list),\n",
        "        'mRNA_well_rmse_std' : np.std(mRNA_well_rmse_list),\n",
        "        'mRNA_well_r2_avg' : np.average(mRNA_well_r2_list),\n",
        "        'mRNA_well_r2_std' : np.std(mRNA_well_r2_list)\n",
        "    }\n",
        "    mRNA_well_error[column] = tests\n",
        "\n",
        "  for column in mRNA_poor_df:\n",
        "    mRNA_poor_traintarget = mRNA_poor_traindata[column]\n",
        "    mRNA_poor_testtarget = mRNA_poor_testdata[column]\n",
        "    lin_model = LinearRegression()\n",
        "    lin_model.fit(miR_traindata, mRNA_poor_traintarget)\n",
        "    miR_testpredict = lin_model.predict(miR_testdata)\n",
        "    rmse = (np.sqrt(mean_squared_error(mRNA_poor_testtarget, miR_testpredict)))\n",
        "    r2 = r2_score(mRNA_poor_testtarget, miR_testpredict)\n",
        "\n",
        "    mRNA_poor_rmse_list = np.append(mRNA_poor_rmse_list, rmse)\n",
        "    mRNA_poor_r2_list = np.append(mRNA_poor_r2_list, r2)\n",
        "    tests = {\n",
        "        'mRNA_poor_rmse_avg' : np.average(mRNA_poor_rmse_list),\n",
        "        'mRNA_poor_rmse_std' : np.std(mRNA_poor_rmse_list),\n",
        "        'mRNA_poor_r2_avg' : np.average(mRNA_poor_r2_list),\n",
        "        'mRNA_poor_r2_std' : np.std(mRNA_poor_r2_list)\n",
        "    }\n",
        "    mRNA_poor_error[column] = tests\n",
        "\n"
      ],
      "execution_count": null,
      "outputs": []
    },
    {
      "cell_type": "markdown",
      "metadata": {
        "id": "bAV5Nq79Yggc"
      },
      "source": [
        "**2.2:** Visualize and compare the performance of the well expressed gene set to the poorly expressed gene set using R2.  Draw histograms of the R2s for both sets on the same plot; one histogram comparison should be done for train and one for test. (matplotlib has builtin histogram-drawing functions, see the documentation.)\n",
        "\n",
        "Describe the differences you see across the well and poorly expressed gene sets.\n",
        "\n",
        "Answer: Using mRNA_well to predict is much better than using mRNA_well."
      ]
    },
    {
      "cell_type": "code",
      "metadata": {
        "id": "msGn9zo9YqSD",
        "colab": {
          "base_uri": "https://localhost:8080/",
          "height": 927
        },
        "outputId": "9ae7e875-e428-4108-99d6-42014f1badff"
      },
      "source": [
        "# Your code here\n",
        "mRNA_well_r2_df = pd.DataFrame.from_dict(mRNA_well_error).transpose()['mRNA_well_r2_avg']\n",
        "\n",
        "mRNA_poor_r2_df = pd.DataFrame.from_dict(mRNA_poor_error).transpose()['mRNA_poor_r2_avg']\n",
        "#print(mRNA_poor_r2_df)\n",
        "\n",
        "mRNA_r2_df = pd.DataFrame([mRNA_well_r2_df, mRNA_poor_r2_df]).transpose()\n",
        "#print(mRNA_r2_df)\n",
        "mRNA_r2_df.columns = ['mRNA_well', 'mRNA_poor']\n",
        "mRNA_r2_df.plot(kind='bar', figsize=(15, 15))"
      ],
      "execution_count": null,
      "outputs": [
        {
          "output_type": "execute_result",
          "data": {
            "text/plain": [
              "<matplotlib.axes._subplots.AxesSubplot at 0x7fb232002150>"
            ]
          },
          "metadata": {
            "tags": []
          },
          "execution_count": 11
        },
        {
          "output_type": "display_data",
          "data": {
            "image/png": "[encoded data removed]",
            "text/plain": [
              "<Figure size 1080x1080 with 1 Axes>"
            ]
          },
          "metadata": {
            "tags": [],
            "needs_background": "light"
          }
        }
      ]
    },
    {
      "cell_type": "markdown",
      "metadata": {
        "id": "LFMhg2Q1Yto7"
      },
      "source": [
        "**2.3:** In this part, we want to add a categorical feature as the 22nd predictor. Tissue type is an important factor in explaining the gene expression profile. Our samples come from 32 tissue types which are provided to you in a separate file. Use dummy variable coding to include the tissue type in your regression.  \n",
        "\n",
        "Recall that in dummy variable coding of categorical variable X with n levels, we add n - 1 columns to our features. The first level is coded as zero and then for each level, we set one of the columns to 1. For example, if we have a categorical feature for \"Direction\" with four levels \"South, West, North, East\" the following codes are required:\n",
        "\n",
        "|                         | West | North | East |\n",
        "|-------------------------|:----:|:-----:|:----:|\n",
        "| Code if Direction=South |   0  |   0   |   0  |\n",
        "| Code if Direction=West  |   1  |   0   |   0  |\n",
        "| Code if Direction=North |   0  |   1   |   0  |\n",
        "| Code if Direction=East  |   0  |   0   |   1  |\n",
        "\n",
        "So for 32 values for the \"Tissue\" feature, you need to add 31 columns to your feature (design) matrix. With the newly added feature(s) run the linear regressions again with the 80/20 split and report any change in prediction performance of your model. Also, please *try* to find an explaination for any change in performance you see.\n",
        "\n",
        "Answer: From the observation of the new plot, almost all of the R2 score increases. I guess is that the tissue as a dummy variable is like a bias or '*w0*' in the linear regression."
      ]
    },
    {
      "cell_type": "code",
      "metadata": {
        "id": "Xt1MqYDrZCA7",
        "colab": {
          "base_uri": "https://localhost:8080/"
        },
        "outputId": "57ff0c49-339b-4c43-d6ab-0f67a4ae7603"
      },
      "source": [
        "# Load tissue data\n",
        "tissue_type_URL='https://github.com/efosler/cse5522data/raw/master/cancerType-x-Categorical.csv'\n",
        "tissue_dataframe=pd.read_csv(tissue_type_URL, index_col = 0)\n",
        "\n",
        "tissue_dataframe.head()\n",
        "tissue_dataframe.shape"
      ],
      "execution_count": null,
      "outputs": [
        {
          "output_type": "execute_result",
          "data": {
            "text/plain": [
              "(8895, 1)"
            ]
          },
          "metadata": {
            "tags": []
          },
          "execution_count": 12
        }
      ]
    },
    {
      "cell_type": "code",
      "metadata": {
        "id": "J7hHn-zkZCYE"
      },
      "source": [
        "#Your code here\n",
        "tissue = pd.get_dummies(tissue_dataframe)\n",
        "#tissue.head()\n",
        "#tissue.shape()\n",
        "miR_df = pd.concat([miR_df, tissue], axis = 1)"
      ],
      "execution_count": null,
      "outputs": []
    },
    {
      "cell_type": "code",
      "metadata": {
        "id": "b3BTI0WzIjm-"
      },
      "source": [
        "mRNA_well_error = {}\n",
        "mRNA_poor_error = {}\n",
        "for _ in range(10):\n",
        "  mRNA_well_rmse_list = np.array([])\n",
        "  mRNA_well_r2_list = np.array([])\n",
        "  mRNA_poor_rmse_list = np.array([])\n",
        "  mRNA_poor_r2_list = np.array([])\n",
        "  miR_traindata, miR_testdata = train_test_split(miR_df, test_size = 0.2)\n",
        "  mRNA_well_traindata, mRNA_well_testdata = train_test_split(mRNA_well_df, test_size = 0.2)\n",
        "  mRNA_poor_traindata, mRNA_poor_testdata = train_test_split(mRNA_poor_df, test_size = 0.2)\n",
        "  for column in mRNA_well_df:\n",
        "    mRNA_well_traintarget = mRNA_well_traindata[column]\n",
        "    mRNA_well_testtarget = mRNA_well_testdata[column]\n",
        "    lin_model = LinearRegression()\n",
        "    lin_model.fit(miR_traindata, mRNA_well_traintarget)\n",
        "    miR_testpredict = lin_model.predict(miR_testdata)\n",
        "    rmse = (np.sqrt(mean_squared_error(mRNA_well_testtarget, miR_testpredict)))\n",
        "    r2 = r2_score(mRNA_well_testtarget, miR_testpredict)\n",
        "\n",
        "    mRNA_well_rmse_list = np.append(mRNA_well_rmse_list, rmse)\n",
        "    mRNA_well_r2_list = np.append(mRNA_well_r2_list, r2)\n",
        "\n",
        "    tests = {\n",
        "        'mRNA_well_rmse_avg' : np.average(mRNA_well_rmse_list),\n",
        "        'mRNA_well_rmse_std' : np.std(mRNA_well_rmse_list),\n",
        "        'mRNA_well_r2_avg' : np.average(mRNA_well_r2_list),\n",
        "        'mRNA_well_r2_std' : np.std(mRNA_well_r2_list)\n",
        "    }\n",
        "    mRNA_well_error[column] = tests\n",
        "\n",
        "  for column in mRNA_poor_df:\n",
        "    mRNA_poor_traintarget = mRNA_poor_traindata[column]\n",
        "    mRNA_poor_testtarget = mRNA_poor_testdata[column]\n",
        "    lin_model = LinearRegression()\n",
        "    lin_model.fit(miR_traindata, mRNA_poor_traintarget)\n",
        "    miR_testpredict = lin_model.predict(miR_testdata)\n",
        "    rmse = (np.sqrt(mean_squared_error(mRNA_poor_testtarget, miR_testpredict)))\n",
        "    r2 = r2_score(mRNA_poor_testtarget, miR_testpredict)\n",
        "\n",
        "    mRNA_poor_rmse_list = np.append(mRNA_poor_rmse_list, rmse)\n",
        "    mRNA_poor_r2_list = np.append(mRNA_poor_r2_list, r2)\n",
        "    tests = {\n",
        "        'mRNA_poor_rmse_avg' : np.average(mRNA_poor_rmse_list),\n",
        "        'mRNA_poor_rmse_std' : np.std(mRNA_poor_rmse_list),\n",
        "        'mRNA_poor_r2_avg' : np.average(mRNA_poor_r2_list),\n",
        "        'mRNA_poor_r2_std' : np.std(mRNA_poor_r2_list)\n",
        "    }\n",
        "    mRNA_poor_error[column] = tests"
      ],
      "execution_count": null,
      "outputs": []
    },
    {
      "cell_type": "code",
      "metadata": {
        "colab": {
          "base_uri": "https://localhost:8080/",
          "height": 885
        },
        "id": "lADzFNmNIkps",
        "outputId": "ac947415-a1ef-451b-a04f-a1c324b54fb2"
      },
      "source": [
        "mRNA_well_r2_df = pd.DataFrame.from_dict(mRNA_well_error).transpose()['mRNA_well_r2_avg']\n",
        "\n",
        "mRNA_poor_r2_df = pd.DataFrame.from_dict(mRNA_poor_error).transpose()['mRNA_poor_r2_avg']\n",
        "#print(mRNA_poor_r2_df)\n",
        "\n",
        "mRNA_r2_df = pd.DataFrame([mRNA_well_r2_df, mRNA_poor_r2_df]).transpose()\n",
        "#print(mRNA_r2_df)\n",
        "mRNA_r2_df.columns = ['mRNA_well', 'mRNA_poor']\n",
        "mRNA_r2_df.plot(kind='bar', figsize=(15, 15))"
      ],
      "execution_count": null,
      "outputs": [
        {
          "output_type": "execute_result",
          "data": {
            "text/plain": [
              "<matplotlib.axes._subplots.AxesSubplot at 0x7fb22f5a2590>"
            ]
          },
          "metadata": {
            "tags": []
          },
          "execution_count": 32
        },
        {
          "output_type": "display_data",
          "data": {
            "image/png": "[encoded data removed]",
            "text/plain": [
              "<Figure size 1080x1080 with 1 Axes>"
            ]
          },
          "metadata": {
            "tags": [],
            "needs_background": "light"
          }
        }
      ]
    },
    {
      "cell_type": "markdown",
      "metadata": {
        "id": "iJ65ksalaTWE"
      },
      "source": [
        "---\n",
        "---\n",
        "\n",
        "**Part 3: Logistic Regression (40 points)**\n",
        "\n",
        "In this exercise, you will implement logistic regression by gradient descent.  You <u>should not</u> use off the shelf logistic regression solvers for this problem. (Though you may use them to check your work.) This will also exercise your data skills, so you may want to read up on the pandas toolkit.\n",
        "\n",
        "Problem: you are given a dataset of 400 people; half female/half male, also half of the people are basketball players and half are not.   The data has three features: height (inches), weight (pounds), and female (0=male, 1=female).  The variable you want to predict is basketball player (0=non-player, 1=player)."
      ]
    },
    {
      "cell_type": "code",
      "metadata": {
        "id": "A9Zz6NTiB1Gf",
        "colab": {
          "base_uri": "https://localhost:8080/",
          "height": 204
        },
        "outputId": "5db35f81-fe9e-405d-9687-e2c777ed5143"
      },
      "source": [
        "basketball_URL='https://raw.githubusercontent.com/efosler/cse5522data/master/height_vs_weight.csv'\n",
        "basketball_df=pd.read_csv(basketball_URL)\n",
        "basketball_df.head()\n",
        "\n",
        "#You will need to extract the target and dependent/feature variables yourself\n",
        "#Refer to the previous parts for examples"
      ],
      "execution_count": null,
      "outputs": [
        {
          "output_type": "execute_result",
          "data": {
            "text/html": [
              "<div>\n",
              "<style scoped>\n",
              "    .dataframe tbody tr th:only-of-type {\n",
              "        vertical-align: middle;\n",
              "    }\n",
              "\n",
              "    .dataframe tbody tr th {\n",
              "        vertical-align: top;\n",
              "    }\n",
              "\n",
              "    .dataframe thead th {\n",
              "        text-align: right;\n",
              "    }\n",
              "</style>\n",
              "<table border=\"1\" class=\"dataframe\">\n",
              "  <thead>\n",
              "    <tr style=\"text-align: right;\">\n",
              "      <th></th>\n",
              "      <th>height</th>\n",
              "      <th>weight</th>\n",
              "      <th>female</th>\n",
              "      <th>basketball</th>\n",
              "    </tr>\n",
              "  </thead>\n",
              "  <tbody>\n",
              "    <tr>\n",
              "      <th>0</th>\n",
              "      <td>74.8</td>\n",
              "      <td>221.2</td>\n",
              "      <td>0</td>\n",
              "      <td>1</td>\n",
              "    </tr>\n",
              "    <tr>\n",
              "      <th>1</th>\n",
              "      <td>65.6</td>\n",
              "      <td>147.3</td>\n",
              "      <td>1</td>\n",
              "      <td>1</td>\n",
              "    </tr>\n",
              "    <tr>\n",
              "      <th>2</th>\n",
              "      <td>74.8</td>\n",
              "      <td>166.8</td>\n",
              "      <td>0</td>\n",
              "      <td>0</td>\n",
              "    </tr>\n",
              "    <tr>\n",
              "      <th>3</th>\n",
              "      <td>68.5</td>\n",
              "      <td>174.1</td>\n",
              "      <td>0</td>\n",
              "      <td>0</td>\n",
              "    </tr>\n",
              "    <tr>\n",
              "      <th>4</th>\n",
              "      <td>66.8</td>\n",
              "      <td>156.6</td>\n",
              "      <td>1</td>\n",
              "      <td>0</td>\n",
              "    </tr>\n",
              "  </tbody>\n",
              "</table>\n",
              "</div>"
            ],
            "text/plain": [
              "   height  weight  female  basketball\n",
              "0    74.8   221.2       0           1\n",
              "1    65.6   147.3       1           1\n",
              "2    74.8   166.8       0           0\n",
              "3    68.5   174.1       0           0\n",
              "4    66.8   156.6       1           0"
            ]
          },
          "metadata": {
            "tags": []
          },
          "execution_count": 374
        }
      ]
    },
    {
      "cell_type": "markdown",
      "metadata": {
        "id": "jD2aviGwzT05"
      },
      "source": [
        "Implement gradient descent for logistic regression.  You may want to consult the notes in the regression model on logistic regression for help.\n",
        "\n",
        "Train the model on 80% of the data, reserving 20% for the test set.\n",
        "\n",
        "*Hint:* You can re-use a significant amount of your code from the first hands-on activity. (Alternately, you may also re-use code from the example solution I have provided for the first hands-on activity.)\n",
        "\n",
        "*Warning*: You may find it necessary to normalize the feature data, just like in first hands-on activity! However, unlike the hands-on, <u>do not</u> normalize the target data.\n",
        "\n",
        "**3.1:** Train the model first to predict the probability of basketball given height.   Evaluate on the test set in a few ways:\n",
        "\n",
        "Compute the average loss on the test set: $$-\\frac{1}{N}\\sum_{i-1}^N\\log\\left(target_i\\cdot P\\left(prediction_i\\right)\\:+\\:\\left(1-target_i\\right)\\left(1-P\\left(prediction_i\\right)\\right)\\right)$$\n",
        "\n",
        "(Note this is just a clever way to say use P(prediction) when target is 1, 1-P(prediction) when target is 0.)\n",
        "\n",
        "Compute the accuracy on the test set by predicting someone is a basketball player if P(prediction) > 0.5.\n",
        "\n",
        "Plot the training data as well as the learned logistic regression function, on the same plot. (I'm looking for somthing similar to what is shown on Slide 29 of Week 2.)"
      ]
    },
    {
      "cell_type": "code",
      "metadata": {
        "id": "PpgAGmjzaaVq",
        "colab": {
          "base_uri": "https://localhost:8080/"
        },
        "outputId": "87085581-7c9c-4d53-bade-24f493ba5678"
      },
      "source": [
        "basketball_target = np.array(basketball_df['basketball'], dtype='float').reshape(-1,1)\n",
        "heights = np.array(basketball_df['height'], dtype='float').reshape(-1,1)\n",
        "basketball_traindata, basketball_testdata, basketball_traintest, basketball_testtarget = train_test_split(heights, basketball_target.ravel(), test_size = 0.2)\n",
        "\n",
        "# computeMSEBatchGradient:\n",
        "#   weights - vector of weights (univariate linear = 2 weights)\n",
        "#   features - vector (or matrix) of feature values\n",
        "#   targets - vector of target values, same length as features\n",
        "#\n",
        "#   returns average gradient over the batch of features\n",
        "def computeMSEBatchGradient(weights,features,targets):\n",
        "    predictions=features*weights[1]+weights[0]\n",
        "    sigmoid = 1/(1+np.exp(-1*predictions))\n",
        "    errors=targets-sigmoid\n",
        "    gradient=np.array([-2.0*np.average(errors),-2.0*np.average(features*errors)])\n",
        "\n",
        "    return gradient\n",
        "\n",
        "# computeGradientDescentWeightUpdate:\n",
        "#   weights - vector initial weights\n",
        "#   features - vector/matrix of features\n",
        "#   targets - vector of target values\n",
        "#   learning_rate - step length for update\n",
        "def computeGradientDescentWeightUpdate(weights, features, targets, learning_rate):\n",
        "\n",
        "  gradient=computeMSEBatchGradient(weights,features,targets)\n",
        "  weights = weights - learning_rate * gradient\n",
        "\n",
        "  return weights\n",
        "\n",
        "# pick some weights sort of in the right ballpark\n",
        "weights=[20000.,150.]\n",
        "learning_rate=0.0001\n",
        "\n",
        "def run(weights,features,targets,learning_rate,total_iterations=10000,iterations_per_report=1000):\n",
        "  for step in range(total_iterations):\n",
        "    weights=computeGradientDescentWeightUpdate(weights,features,targets,learning_rate)\n",
        "    if (step%iterations_per_report == 0):\n",
        "      print(weights)\n",
        "  print(weights)\n",
        "  return weights\n",
        "\n",
        "final_weights=run(weights,basketball_traindata.ravel(),basketball_traintest,learning_rate)"
      ],
      "execution_count": null,
      "outputs": [
        {
          "output_type": "stream",
          "text": [
            "[19999.99990125   149.99328619]\n",
            "[19999.90115125   143.27947369]\n",
            "[19999.80240125   136.56566119]\n",
            "[19999.70365125   129.85184869]\n",
            "[19999.60490125   123.13803619]\n",
            "[19999.50615126   116.42422369]\n",
            "[19999.40740126   109.71041119]\n",
            "[19999.30865126   102.99659869]\n",
            "[19999.20990126    96.28278619]\n",
            "[19999.11115126    89.56897369]\n",
            "[19999.01250001    82.861875  ]\n"
          ],
          "name": "stdout"
        }
      ]
    },
    {
      "cell_type": "code",
      "metadata": {
        "id": "MvbeaAPZauBU"
      },
      "source": [
        "# Check the actual result with LogisticRegression\n",
        "from sklearn.linear_model import LogisticRegression\n",
        "lin_model=LogisticRegression()\n",
        "lin_model.fit(basketball_traindata,basketball_traintest)\n",
        "basketball_testpredict = lin_model.predict(basketball_testdata)"
      ],
      "execution_count": null,
      "outputs": []
    },
    {
      "cell_type": "code",
      "metadata": {
        "colab": {
          "base_uri": "https://localhost:8080/"
        },
        "id": "Yqd7MRECblms",
        "outputId": "9b932335-e4a5-448d-a2b3-92526eb3372f"
      },
      "source": [
        "# print slope\n",
        "lin_model.coef_"
      ],
      "execution_count": null,
      "outputs": [
        {
          "output_type": "execute_result",
          "data": {
            "text/plain": [
              "array([[0.15242716]])"
            ]
          },
          "metadata": {
            "tags": []
          },
          "execution_count": 377
        }
      ]
    },
    {
      "cell_type": "code",
      "metadata": {
        "colab": {
          "base_uri": "https://localhost:8080/"
        },
        "id": "huztT_jvbm4m",
        "outputId": "75cff136-701a-4860-ecf0-ae5306ee73e9"
      },
      "source": [
        "# print intercept\n",
        "lin_model.intercept_"
      ],
      "execution_count": null,
      "outputs": [
        {
          "output_type": "execute_result",
          "data": {
            "text/plain": [
              "array([-10.61042328])"
            ]
          },
          "metadata": {
            "tags": []
          },
          "execution_count": 378
        }
      ]
    },
    {
      "cell_type": "code",
      "metadata": {
        "colab": {
          "base_uri": "https://localhost:8080/"
        },
        "id": "Q6a0Lf5ScWTF",
        "outputId": "a4e88c82-cf0e-417d-e863-f96276152837"
      },
      "source": [
        "epsilon = 0.00000001\n",
        "learning_rate=[0.9,0.0001]\n",
        "def run(weights,features,target,learning_rate):\n",
        "  for step in range(1000000):\n",
        "    prev_weights=weights\n",
        "    weights=computeGradientDescentWeightUpdate(weights,features,target,learning_rate)\n",
        "    avg_gradient=(weights-prev_weights)/learning_rate\n",
        "    if (np.linalg.norm(avg_gradient)<epsilon):\n",
        "      break\n",
        "    if (step%1000 == 0):\n",
        "      print(weights)\n",
        "  print(weights)\n",
        "  return weights\n",
        "\n",
        "\n",
        "final_weights=run(weights,basketball_traindata.ravel(),basketball_traintest,learning_rate)\n",
        "# Result: [-9.55715679  0.13754057] pretty accurate..."
      ],
      "execution_count": null,
      "outputs": [
        {
          "output_type": "stream",
          "text": [
            "[19999.11125      149.99328619]\n",
            "[19110.36125      143.27947369]\n",
            "[18221.61125      136.56566119]\n",
            "[17332.86125001   129.85184869]\n",
            "[16444.11125001   123.13803619]\n",
            "[15555.36125001   116.42422369]\n",
            "[14666.61125001   109.71041119]\n",
            "[13777.86125001   102.99659869]\n",
            "[12889.11125001    96.28278619]\n",
            "[12000.36125001    89.56897369]\n",
            "[11111.61125001    82.85516119]\n",
            "[10222.86125001    76.14134869]\n",
            "[9334.11125001   69.42753619]\n",
            "[8445.36125001   62.71372369]\n",
            "[7556.61125001   55.99991119]\n",
            "[6667.86125001   49.28609869]\n",
            "[5779.11125001   42.57228619]\n",
            "[4890.36125001   35.85847369]\n",
            "[4001.61125001   29.14466119]\n",
            "[3112.86125001   22.43084869]\n",
            "[2224.11125001   15.71703619]\n",
            "[1335.36125001    9.00322369]\n",
            "[446.61125001   2.28941119]\n",
            "[35.78787716 -0.51193683]\n",
            "[13.94703396 -0.1987339 ]\n",
            "[ 0.52941067 -0.0069441 ]\n",
            "[-5.31716381  0.07664091]\n",
            "[-7.93539496  0.11411186]\n",
            "[-9.21470713  0.13243183]\n",
            "[-9.87136381  0.14183818]\n",
            "[-10.21714069   0.14679211]\n",
            "[-10.40167118   0.14943609]\n",
            "[-10.5008522    0.15085724]\n",
            "[-10.55436329   0.15162401]\n",
            "[-10.58329341   0.15203856]\n",
            "[-10.59895146   0.15226293]\n",
            "[-10.60743127   0.15238445]\n",
            "[-10.61202509   0.15245027]\n",
            "[-10.61451418   0.15248594]\n",
            "[-10.61586298   0.15250527]\n",
            "[-10.61659391   0.15251574]\n",
            "[-10.61699002   0.15252142]\n",
            "[-10.61720468   0.1525245 ]\n",
            "[-10.61732102   0.15252616]\n",
            "[-10.61738407   0.15252707]\n",
            "[-10.61741824   0.15252756]\n",
            "[-10.61743675   0.15252782]\n",
            "[-10.61744679   0.15252796]\n",
            "[-10.61745223   0.15252804]\n",
            "[-10.61745518   0.15252808]\n",
            "[-10.61745677   0.15252811]\n",
            "[-10.61745764   0.15252812]\n",
            "[-10.61745811   0.15252813]\n",
            "[-10.61745836   0.15252813]\n",
            "[-10.6174585    0.15252813]\n",
            "[-10.61745855   0.15252813]\n"
          ],
          "name": "stdout"
        }
      ]
    },
    {
      "cell_type": "code",
      "metadata": {
        "id": "lNUZ1XMmiABH"
      },
      "source": [
        "#Calculate probility\n",
        "def calculate_probability(weights, features):\n",
        "  predictions = features*weights[1]+weights[0]\n",
        "  p_prediction = 1/(1+np.exp(-1*predictions))\n",
        "  return p_prediction"
      ],
      "execution_count": null,
      "outputs": []
    },
    {
      "cell_type": "code",
      "metadata": {
        "colab": {
          "base_uri": "https://localhost:8080/"
        },
        "id": "SCiCa6d1ely5",
        "outputId": "f7c362b9-5dc9-4ab8-8dff-d9bda70e2050"
      },
      "source": [
        "# Calculate loss\n",
        "def calculate_loss(weights, features, targets):\n",
        "  p_prediction = calculate_probability(weights, features)\n",
        "  loss = np.log(targets*p_prediction+(1-targets)*(1-p_prediction))\n",
        "  loss = -np.average(loss)\n",
        "  return loss\n",
        "loss = calculate_loss(final_weights, basketball_testdata.ravel(), basketball_testtarget)\n",
        "print('Loss= {}'.format(loss))"
      ],
      "execution_count": null,
      "outputs": [
        {
          "output_type": "stream",
          "text": [
            "Loss= 0.6167765790766647\n"
          ],
          "name": "stdout"
        }
      ]
    },
    {
      "cell_type": "code",
      "metadata": {
        "colab": {
          "base_uri": "https://localhost:8080/"
        },
        "id": "kqv9qcTjTXJB",
        "outputId": "520fcfea-f51f-40cf-efaf-f4d69575d694"
      },
      "source": [
        "def actual_probability(probability):\n",
        "  if probability > 0.5:\n",
        "    return 1\n",
        "  else:\n",
        "    return 0\n",
        "def calculate_accuracy(weights, features, targets):\n",
        "  basketball_prob = calculate_probability(weights, features)\n",
        "  basketball_pred = np.array([actual_probability(pro) for pro in basketball_prob])\n",
        "  accuracy = np.mean(np.equal(basketball_pred,targets))\n",
        "  return accuracy\n",
        "accuracy = calculate_accuracy(final_weights, basketball_testdata.ravel(), basketball_testtarget)\n",
        "print('Accuracy= {}'.format(accuracy))"
      ],
      "execution_count": null,
      "outputs": [
        {
          "output_type": "stream",
          "text": [
            "Accuracy= 0.6\n"
          ],
          "name": "stdout"
        }
      ]
    },
    {
      "cell_type": "code",
      "metadata": {
        "colab": {
          "base_uri": "https://localhost:8080/",
          "height": 297
        },
        "id": "rgNBcws_hK_c",
        "outputId": "ff5f7d70-af2b-4d78-abb6-abde91b6332a"
      },
      "source": [
        "#display(heights.shape, basketball_target.shape)\n",
        "plt.scatter(heights, basketball_target, label = 'Actual data')\n",
        "predicts = calculate_probability(final_weights, heights)\n",
        "plt.scatter(heights, predicts, label = 'Prediction')\n",
        "plt.xlabel('Heights')\n",
        "plt.ylabel('Probability of a basketball player')"
      ],
      "execution_count": null,
      "outputs": [
        {
          "output_type": "execute_result",
          "data": {
            "text/plain": [
              "Text(0, 0.5, 'Probability of a basketball player')"
            ]
          },
          "metadata": {
            "tags": []
          },
          "execution_count": 384
        },
        {
          "output_type": "display_data",
          "data": {
            "image/png": "[encoded data removed]",
            "text/plain": [
              "<Figure size 432x288 with 1 Axes>"
            ]
          },
          "metadata": {
            "tags": [],
            "needs_background": "light"
          }
        }
      ]
    },
    {
      "cell_type": "markdown",
      "metadata": {
        "id": "_ybAXNb2nQGY"
      },
      "source": [
        "In conclusion, the taller a person is, the higher chance that the person is a basketball player. The learning result is pretty much in line with common sense."
      ]
    },
    {
      "cell_type": "markdown",
      "metadata": {
        "id": "UPfbTzMgCXYB"
      },
      "source": [
        "**3.2:**  Now train the model to be gender dependent by incorporating both the height and female features.  Evaluate on the same test set with average loss and accuracy.\n",
        "\n",
        "Plot the logistic regression function across heights for male and female. (In other words, you will now plot two sigmoid curves, one for when gender=0, and one for when gender=1.)\n",
        "\n",
        "Do the learned functions make sense relative to one another? Explain."
      ]
    },
    {
      "cell_type": "code",
      "metadata": {
        "id": "a4GbbvxNCZ4N"
      },
      "source": [
        "gender_height = pd.DataFrame([basketball_df['height'], basketball_df['female']]).transpose().values\n",
        "basketball_target = basketball_df['basketball'].values\n",
        "basketball_traindata, basketball_testdata, basketball_traintest, basketball_testtarget = train_test_split(gender_height, basketball_target, test_size=0.2)\n",
        "#display(basketball_traindata.shape, basketball_testdata.shape, basketball_traintest.shape, basketball_testtarget.shape)\n",
        "\n",
        "# Update calculate_probability method since there is one additional feature: gender\n",
        "def calculate_probability(weights, features):\n",
        "  predictions = features[1]*weights[2]+features[0]*weights[1]+weights[0]\n",
        "  p_prediction = 1/(1+np.exp(-1*predictions))\n",
        "  return p_prediction\n",
        "\n",
        "# Update batchGradient desecent method...\n",
        "def computeMSEBatchGradient(weights,features,targets):\n",
        "    sigmoid = calculate_probability(weights, features)\n",
        "    errors=targets-sigmoid\n",
        "    gradient=np.array([-2.0*np.average(errors),-2.0*np.average(features[0]*errors),-2.0*np.average(features[1]*errors)])\n",
        "\n",
        "    return gradient"
      ],
      "execution_count": null,
      "outputs": []
    },
    {
      "cell_type": "code",
      "metadata": {
        "colab": {
          "base_uri": "https://localhost:8080/",
          "height": 53
        },
        "id": "VjGlEsf-W2Oz",
        "outputId": "3c50287b-f2ba-428b-969c-a96cf55906d7"
      },
      "source": [
        "# Check the actual result of the logistic regression first\n",
        "lin_model=LogisticRegression()\n",
        "lin_model.fit(basketball_traindata,basketball_traintest)\n",
        "basketball_testpredict = lin_model.predict(basketball_testdata)\n",
        "# print intercept and slope\n",
        "display(lin_model.intercept_, lin_model.coef_)"
      ],
      "execution_count": null,
      "outputs": [
        {
          "output_type": "display_data",
          "data": {
            "text/plain": [
              "array([-18.25824857])"
            ]
          },
          "metadata": {
            "tags": []
          }
        },
        {
          "output_type": "display_data",
          "data": {
            "text/plain": [
              "array([[0.25133073, 1.39469563]])"
            ]
          },
          "metadata": {
            "tags": []
          }
        }
      ]
    },
    {
      "cell_type": "code",
      "metadata": {
        "id": "0mKXeOjLHI0Q"
      },
      "source": [
        "weights = [0, 10, 10]\n",
        "learning_rate = [.001, .00001, .0003]\n",
        "final_weights=run(weights,basketball_traindata.transpose(),basketball_traintest,learning_rate)\n",
        "# It take about 2 mins to run\n",
        "# Final result (somewhere close to): [-16.58930418   0.22923771   1.21034714]"
      ],
      "execution_count": null,
      "outputs": []
    },
    {
      "cell_type": "code",
      "metadata": {
        "id": "YhZXfkxIbYOe"
      },
      "source": [
        "#final_weights_data = final_weights #Save the data so that I won't have to run it everytime\n",
        "#display(final_weights_data)"
      ],
      "execution_count": null,
      "outputs": []
    },
    {
      "cell_type": "code",
      "metadata": {
        "colab": {
          "base_uri": "https://localhost:8080/"
        },
        "id": "00FDA606YUhR",
        "outputId": "90f411c9-29c9-413d-9671-37ae4ade90fe"
      },
      "source": [
        "# Calculate loss\n",
        "loss = calculate_loss(final_weights, basketball_testdata.ravel(), basketball_testtarget)\n",
        "print('Loss= {}'.format(loss))"
      ],
      "execution_count": null,
      "outputs": [
        {
          "output_type": "stream",
          "text": [
            "Loss= 1.1542347647454314\n"
          ],
          "name": "stdout"
        }
      ]
    },
    {
      "cell_type": "code",
      "metadata": {
        "colab": {
          "base_uri": "https://localhost:8080/"
        },
        "id": "4-4cyfqhdxVa",
        "outputId": "6b98f213-9f69-4ef4-eedc-2557aabc9957"
      },
      "source": [
        "# Calculate accuracy\n",
        "accuracy = calculate_accuracy(final_weights, basketball_testdata.transpose(), basketball_testtarget)\n",
        "print('Accuracy= {}'.format(accuracy))"
      ],
      "execution_count": null,
      "outputs": [
        {
          "output_type": "stream",
          "text": [
            "Accuracy= 0.625\n"
          ],
          "name": "stdout"
        }
      ]
    },
    {
      "cell_type": "code",
      "metadata": {
        "colab": {
          "base_uri": "https://localhost:8080/",
          "height": 297
        },
        "id": "5TXoZmewhqzO",
        "outputId": "30410480-98df-4509-a879-8c177e3d31f1"
      },
      "source": [
        "plt.xlabel('Heights')\n",
        "plt.ylabel('Probability of a basketball player')\n",
        "# Extra only man from the dataframe and plot\n",
        "man = basketball_df[basketball_df['female']==0]\n",
        "man_predict = calculate_probability(final_weights, np.array([man['height'], man['female']]))\n",
        "plt.scatter(man['height'].values, man_predict, c='green', label='Probablity for man')\n",
        "# Extra only woman from the dataframe and plot\n",
        "woman = basketball_df[basketball_df['female']==1]\n",
        "woman_predict = calculate_probability(final_weights, np.array([woman['height'], woman['female']]))\n",
        "plt.scatter(woman['height'].values, woman_predict, c='red', label='Probablity for woman')\n",
        "\n",
        "plt.scatter(heights, basketball_target, label = 'Actual data')"
      ],
      "execution_count": null,
      "outputs": [
        {
          "output_type": "execute_result",
          "data": {
            "text/plain": [
              "<matplotlib.collections.PathCollection at 0x7fceb4ae2a10>"
            ]
          },
          "metadata": {
            "tags": []
          },
          "execution_count": 391
        },
        {
          "output_type": "display_data",
          "data": {
            "image/png": "[encoded data removed]",
            "text/plain": [
              "<Figure size 432x288 with 1 Axes>"
            ]
          },
          "metadata": {
            "tags": [],
            "needs_background": "light"
          }
        }
      ]
    },
    {
      "cell_type": "markdown",
      "metadata": {
        "id": "6JfR8Xralt6B"
      },
      "source": [
        "Answer: In conclusion, the graph does make sense that men are generally taller than women. For both genders, the taller a person is, the more likely the person is a basketball player. On the other hand, if a man and a woman have the same height, the woman is more likely to be a basketball player."
      ]
    },
    {
      "cell_type": "markdown",
      "metadata": {
        "id": "xo-IlYSjCe42"
      },
      "source": [
        "**3.3:** Incorporate the weight feature (training (height, weight) and (height, weight, gender)). Evaluate on average loss and accuracy.  Does weight help as a feature?"
      ]
    },
    {
      "cell_type": "code",
      "metadata": {
        "id": "Dom0ml3UCiIM"
      },
      "source": [
        "# Training (height, weight)\n",
        "height_weight = pd.DataFrame([basketball_df['height'], basketball_df['weight']]).transpose().values\n",
        "basketball_traindata, basketball_testdata, basketball_traintest, basketball_testtarget = train_test_split(height_weight, basketball_target, test_size=0.2)\n"
      ],
      "execution_count": null,
      "outputs": []
    },
    {
      "cell_type": "code",
      "metadata": {
        "colab": {
          "base_uri": "https://localhost:8080/",
          "height": 53
        },
        "id": "8I9_d13koZHa",
        "outputId": "ca2ed860-2ec7-4bdf-d5bd-036be1a6ef24"
      },
      "source": [
        "# Check the actual result of the logistic regression first\n",
        "lin_model=LogisticRegression()\n",
        "lin_model.fit(basketball_traindata,basketball_traintest)\n",
        "basketball_testpredict = lin_model.predict(basketball_testdata)\n",
        "# print intercept and slope\n",
        "display(lin_model.intercept_, lin_model.coef_)"
      ],
      "execution_count": null,
      "outputs": [
        {
          "output_type": "display_data",
          "data": {
            "text/plain": [
              "array([4.42048878])"
            ]
          },
          "metadata": {
            "tags": []
          }
        },
        {
          "output_type": "display_data",
          "data": {
            "text/plain": [
              "array([[-0.18390427,  0.04628632]])"
            ]
          },
          "metadata": {
            "tags": []
          }
        }
      ]
    },
    {
      "cell_type": "code",
      "metadata": {
        "colab": {
          "base_uri": "https://localhost:8080/"
        },
        "id": "smmY_wimoaTE",
        "outputId": "a7cc4d31-9f19-42d8-a8e5-9a81fb4adb6c"
      },
      "source": [
        "# Calculate the weights\n",
        "weights = [17, 20, 20]\n",
        "learning_rate = [.0005, .00001, .0003]\n",
        "final_weights=run(weights,basketball_traindata.transpose(),basketball_traintest,learning_rate)\n",
        "# Takes about 2 min\n",
        "# Final result should close to: [-0.94734975 -0.21658488  0.07491475]"
      ],
      "execution_count": null,
      "outputs": [
        {
          "output_type": "stream",
          "text": [
            "[-1.30252743 -0.20916939  0.10751947]\n",
            "[-1.30098373 -0.20919976  0.10752265]\n",
            "[-1.29944029 -0.20923013  0.10752583]\n",
            "[-1.29789712 -0.2092605   0.10752902]\n",
            "[-1.29635422 -0.20929085  0.1075322 ]\n",
            "[-1.29481159 -0.20932121  0.10753538]\n",
            "[-1.29326923 -0.20935156  0.10753856]\n",
            "[-1.29172714 -0.2093819   0.10754174]\n",
            "[-1.29018531 -0.20941223  0.10754492]\n",
            "[-1.28864376 -0.20944257  0.1075481 ]\n",
            "[-1.28710247 -0.20947289  0.10755127]\n",
            "[-1.28556145 -0.20950321  0.10755445]\n",
            "[-1.28402069 -0.20953353  0.10755763]\n",
            "[-1.28248021 -0.20956384  0.1075608 ]\n",
            "[-1.28093999 -0.20959415  0.10756398]\n",
            "[-1.27940004 -0.20962444  0.10756716]\n",
            "[-1.27786036 -0.20965474  0.10757033]\n",
            "[-1.27632095 -0.20968503  0.1075735 ]\n",
            "[-1.27478181 -0.20971531  0.10757668]\n",
            "[-1.27324293 -0.20974559  0.10757985]\n",
            "[-1.27170432 -0.20977586  0.10758302]\n",
            "[-1.27016598 -0.20980613  0.10758619]\n",
            "[-1.26862791 -0.20983639  0.10758937]\n",
            "[-1.2670901  -0.20986665  0.10759254]\n",
            "[-1.26555256 -0.2098969   0.10759571]\n",
            "[-1.26401529 -0.20992715  0.10759888]\n",
            "[-1.26247829 -0.20995739  0.10760204]\n",
            "[-1.26094156 -0.20998763  0.10760521]\n",
            "[-1.25940509 -0.21001786  0.10760838]\n",
            "[-1.25786889 -0.21004808  0.10761155]\n",
            "[-1.25633295 -0.2100783   0.10761471]\n",
            "[-1.25479729 -0.21010852  0.10761788]\n",
            "[-1.25326189 -0.21013873  0.10762104]\n",
            "[-1.25172676 -0.21016893  0.10762421]\n",
            "[-1.25019189 -0.21019913  0.10762737]\n",
            "[-1.2486573  -0.21022933  0.10763054]\n",
            "[-1.24712297 -0.21025951  0.1076337 ]\n",
            "[-1.2455889  -0.2102897   0.10763686]\n",
            "[-1.24405511 -0.21031987  0.10764002]\n",
            "[-1.24252158 -0.21035005  0.10764319]\n",
            "[-1.24098832 -0.21038021  0.10764635]\n",
            "[-1.23945532 -0.21041038  0.10764951]\n",
            "[-1.23792259 -0.21044053  0.10765267]\n",
            "[-1.23639013 -0.21047068  0.10765582]\n",
            "[-1.23485794 -0.21050083  0.10765898]\n",
            "[-1.23332601 -0.21053097  0.10766214]\n",
            "[-1.23179435 -0.21056111  0.1076653 ]\n",
            "[-1.23026295 -0.21059124  0.10766845]\n",
            "[-1.22873182 -0.21062136  0.10767161]\n",
            "[-1.22720096 -0.21065148  0.10767477]\n",
            "[-1.22567036 -0.2106816   0.10767792]\n",
            "[-1.22414003 -0.2107117   0.10768108]\n",
            "[-1.22260997 -0.21074181  0.10768423]\n",
            "[-1.22108017 -0.21077191  0.10768738]\n",
            "[-1.21955064 -0.210802    0.10769053]\n",
            "[-1.21802138 -0.21083209  0.10769369]\n",
            "[-1.21649238 -0.21086217  0.10769684]\n",
            "[-1.21496365 -0.21089225  0.10769999]\n",
            "[-1.21343518 -0.21092232  0.10770314]\n",
            "[-1.21190698 -0.21095239  0.10770629]\n",
            "[-1.21037905 -0.21098245  0.10770944]\n",
            "[-1.20885138 -0.2110125   0.10771259]\n",
            "[-1.20732398 -0.21104255  0.10771573]\n",
            "[-1.20579684 -0.2110726   0.10771888]\n",
            "[-1.20426997 -0.21110264  0.10772203]\n",
            "[-1.20274337 -0.21113268  0.10772518]\n",
            "[-1.20121703 -0.21116271  0.10772832]\n",
            "[-1.19969096 -0.21119273  0.10773147]\n",
            "[-1.19816515 -0.21122275  0.10773461]\n",
            "[-1.19663961 -0.21125276  0.10773775]\n",
            "[-1.19511433 -0.21128277  0.1077409 ]\n",
            "[-1.19358932 -0.21131278  0.10774404]\n",
            "[-1.19206457 -0.21134277  0.10774718]\n",
            "[-1.19054009 -0.21137277  0.10775032]\n",
            "[-1.18901588 -0.21140275  0.10775347]\n",
            "[-1.18749193 -0.21143274  0.10775661]\n",
            "[-1.18596824 -0.21146271  0.10775975]\n",
            "[-1.18444482 -0.21149269  0.10776289]\n",
            "[-1.18292167 -0.21152265  0.10776602]\n",
            "[-1.18139878 -0.21155261  0.10776916]\n",
            "[-1.17987616 -0.21158257  0.1077723 ]\n",
            "[-1.1783538  -0.21161252  0.10777544]\n",
            "[-1.1768317  -0.21164247  0.10777857]\n",
            "[-1.17530988 -0.21167241  0.10778171]\n",
            "[-1.17378831 -0.21170234  0.10778484]\n",
            "[-1.17226701 -0.21173227  0.10778798]\n",
            "[-1.17074598 -0.2117622   0.10779111]\n",
            "[-1.16922521 -0.21179212  0.10779425]\n",
            "[-1.1677047  -0.21182203  0.10779738]\n",
            "[-1.16618446 -0.21185194  0.10780051]\n",
            "[-1.16466449 -0.21188184  0.10780364]\n",
            "[-1.16314478 -0.21191174  0.10780678]\n",
            "[-1.16162533 -0.21194163  0.10780991]\n",
            "[-1.16010615 -0.21197152  0.10781304]\n",
            "[-1.15858723 -0.21200141  0.10781617]\n",
            "[-1.15706858 -0.21203128  0.1078193 ]\n",
            "[-1.15555019 -0.21206115  0.10782242]\n",
            "[-1.15403206 -0.21209102  0.10782555]\n",
            "[-1.1525142  -0.21212088  0.10782868]\n",
            "[-1.15099661 -0.21215074  0.10783181]\n",
            "[-1.14947928 -0.21218059  0.10783493]\n",
            "[-1.14796221 -0.21221044  0.10783806]\n",
            "[-1.1464454  -0.21224028  0.10784118]\n",
            "[-1.14492887 -0.21227011  0.10784431]\n",
            "[-1.14341259 -0.21229994  0.10784743]\n",
            "[-1.14189658 -0.21232977  0.10785055]\n",
            "[-1.14038083 -0.21235959  0.10785368]\n",
            "[-1.13886535 -0.2123894   0.1078568 ]\n",
            "[-1.13735013 -0.21241921  0.10785992]\n",
            "[-1.13583517 -0.21244902  0.10786304]\n",
            "[-1.13432048 -0.21247882  0.10786616]\n",
            "[-1.13280605 -0.21250861  0.10786928]\n",
            "[-1.13129188 -0.2125384   0.1078724 ]\n",
            "[-1.12977798 -0.21256818  0.10787552]\n",
            "[-1.12826434 -0.21259796  0.10787864]\n",
            "[-1.12675097 -0.21262773  0.10788176]\n",
            "[-1.12523786 -0.2126575   0.10788487]\n",
            "[-1.12372501 -0.21268726  0.10788799]\n",
            "[-1.12221242 -0.21271702  0.10789111]\n",
            "[-1.1207001  -0.21274677  0.10789422]\n",
            "[-1.11918804 -0.21277652  0.10789734]\n",
            "[-1.11767625 -0.21280626  0.10790045]\n",
            "[-1.11616472 -0.21283599  0.10790356]\n",
            "[-1.11465345 -0.21286572  0.10790668]\n",
            "[-1.11314244 -0.21289545  0.10790979]\n",
            "[-1.1116317  -0.21292517  0.1079129 ]\n",
            "[-1.11012122 -0.21295489  0.10791601]\n",
            "[-1.10861101 -0.2129846   0.10791912]\n",
            "[-1.10710105 -0.2130143   0.10792223]\n",
            "[-1.10559136 -0.213044    0.10792534]\n",
            "[-1.10408193 -0.2130737   0.10792845]\n",
            "[-1.10257277 -0.21310338  0.10793156]\n",
            "[-1.10106387 -0.21313307  0.10793467]\n",
            "[-1.09955523 -0.21316275  0.10793778]\n",
            "[-1.09804685 -0.21319242  0.10794088]\n",
            "[-1.09653874 -0.21322209  0.10794399]\n",
            "[-1.09503088 -0.21325175  0.1079471 ]\n",
            "[-1.09352329 -0.21328141  0.1079502 ]\n",
            "[-1.09201597 -0.21331106  0.10795331]\n",
            "[-1.0905089  -0.21334071  0.10795641]\n",
            "[-1.0890021  -0.21337035  0.10795951]\n",
            "[-1.08749556 -0.21339999  0.10796262]\n",
            "[-1.08598928 -0.21342962  0.10796572]\n",
            "[-1.08448327 -0.21345925  0.10796882]\n",
            "[-1.08297752 -0.21348887  0.10797192]\n",
            "[-1.08147202 -0.21351849  0.10797502]\n",
            "[-1.0799668  -0.2135481   0.10797812]\n",
            "[-1.07846183 -0.2135777   0.10798122]\n",
            "[-1.07695712 -0.21360731  0.10798432]\n",
            "[-1.07545268 -0.2136369   0.10798742]\n",
            "[-1.0739485  -0.21366649  0.10799052]\n",
            "[-1.07244458 -0.21369608  0.10799361]\n",
            "[-1.07094092 -0.21372566  0.10799671]\n",
            "[-1.06943753 -0.21375523  0.10799981]\n",
            "[-1.06793439 -0.2137848   0.1080029 ]\n",
            "[-1.06643152 -0.21381437  0.108006  ]\n",
            "[-1.06492891 -0.21384393  0.10800909]\n",
            "[-1.06342656 -0.21387348  0.10801218]\n",
            "[-1.06192448 -0.21390303  0.10801528]\n",
            "[-1.06042265 -0.21393257  0.10801837]\n",
            "[-1.05892109 -0.21396211  0.10802146]\n",
            "[-1.05741978 -0.21399164  0.10802455]\n",
            "[-1.05591874 -0.21402117  0.10802764]\n",
            "[-1.05441796 -0.21405069  0.10803073]\n",
            "[-1.05291744 -0.21408021  0.10803382]\n",
            "[-1.05141719 -0.21410973  0.10803691]\n",
            "[-1.04991719 -0.21413923  0.10804   ]\n",
            "[-1.04841745 -0.21416873  0.10804309]\n",
            "[-1.04691798 -0.21419823  0.10804618]\n",
            "[-1.04541877 -0.21422772  0.10804927]\n",
            "[-1.04391981 -0.21425721  0.10805235]\n",
            "[-1.04242112 -0.21428669  0.10805544]\n",
            "[-1.04092269 -0.21431617  0.10805852]\n",
            "[-1.03942452 -0.21434564  0.10806161]\n",
            "[-1.03792662 -0.21437511  0.10806469]\n",
            "[-1.03642897 -0.21440457  0.10806778]\n",
            "[-1.03493158 -0.21443402  0.10807086]\n",
            "[-1.03343446 -0.21446347  0.10807394]\n",
            "[-1.03193759 -0.21449292  0.10807702]\n",
            "[-1.03044099 -0.21452236  0.1080801 ]\n",
            "[-1.02894464 -0.21455179  0.10808319]\n",
            "[-1.02744856 -0.21458122  0.10808627]\n",
            "[-1.02595273 -0.21461065  0.10808935]\n",
            "[-1.02445717 -0.21464007  0.10809242]\n",
            "[-1.02296187 -0.21466948  0.1080955 ]\n",
            "[-1.02146683 -0.21469889  0.10809858]\n",
            "[-1.01997205 -0.2147283   0.10810166]\n",
            "[-1.01847752 -0.21475769  0.10810474]\n",
            "[-1.01698326 -0.21478709  0.10810781]\n",
            "[-1.01548926 -0.21481648  0.10811089]\n",
            "[-1.01399552 -0.21484586  0.10811396]\n",
            "[-1.01250204 -0.21487524  0.10811704]\n",
            "[-1.01100882 -0.21490461  0.10812011]\n",
            "[-1.00951586 -0.21493398  0.10812319]\n",
            "[-1.00802316 -0.21496334  0.10812626]\n",
            "[-1.00653072 -0.2149927   0.10812933]\n",
            "[-1.00503854 -0.21502205  0.1081324 ]\n",
            "[-1.00354661 -0.2150514   0.10813547]\n",
            "[-1.00205495 -0.21508074  0.10813854]\n",
            "[-1.00056355 -0.21511008  0.10814161]\n",
            "[-0.99907241 -0.21513941  0.10814468]\n",
            "[-0.99758153 -0.21516874  0.10814775]\n",
            "[-0.9960909  -0.21519806  0.10815082]\n",
            "[-0.99460054 -0.21522738  0.10815389]\n",
            "[-0.99311044 -0.21525669  0.10815696]\n",
            "[-0.99162059 -0.21528599  0.10816002]\n",
            "[-0.99013101 -0.21531529  0.10816309]\n",
            "[-0.98864168 -0.21534459  0.10816616]\n",
            "[-0.98715261 -0.21537388  0.10816922]\n",
            "[-0.98566381 -0.21540317  0.10817229]\n",
            "[-0.98417526 -0.21543245  0.10817535]\n",
            "[-0.98268697 -0.21546172  0.10817841]\n",
            "[-0.98119894 -0.21549099  0.10818148]\n",
            "[-0.97971117 -0.21552026  0.10818454]\n",
            "[-0.97822366 -0.21554952  0.1081876 ]\n",
            "[-0.97673641 -0.21557877  0.10819066]\n",
            "[-0.97524942 -0.21560802  0.10819372]\n",
            "[-0.97376268 -0.21563727  0.10819678]\n",
            "[-0.97227621 -0.21566651  0.10819984]\n",
            "[-0.97078999 -0.21569574  0.1082029 ]\n",
            "[-0.96930403 -0.21572497  0.10820596]\n",
            "[-0.96781833 -0.21575419  0.10820902]\n",
            "[-0.96633289 -0.21578341  0.10821207]\n",
            "[-0.96484771 -0.21581263  0.10821513]\n",
            "[-0.96336279 -0.21584183  0.10821819]\n",
            "[-0.96187812 -0.21587104  0.10822124]\n",
            "[-0.96039372 -0.21590024  0.1082243 ]\n",
            "[-0.95890957 -0.21592943  0.10822735]\n",
            "[-0.95742568 -0.21595862  0.10823041]\n",
            "[-0.95594205 -0.2159878   0.10823346]\n",
            "[-0.95445868 -0.21601698  0.10823651]\n",
            "[-0.95297556 -0.21604615  0.10823956]\n",
            "[-0.95149271 -0.21607532  0.10824262]\n",
            "[-0.95001011 -0.21610448  0.10824567]\n",
            "[-0.94852777 -0.21613364  0.10824872]\n",
            "[-0.94734975 -0.21658488  0.07491475]\n"
          ],
          "name": "stdout"
        }
      ]
    },
    {
      "cell_type": "code",
      "metadata": {
        "colab": {
          "base_uri": "https://localhost:8080/"
        },
        "id": "-q1QLZsTpk5E",
        "outputId": "76a943a0-bf8b-45df-8071-91938f1cf798"
      },
      "source": [
        "# Calculate loss\n",
        "loss = calculate_loss(final_weights, basketball_testdata.ravel(), basketball_testtarget)\n",
        "print('Loss= {}'.format(loss))"
      ],
      "execution_count": null,
      "outputs": [
        {
          "output_type": "stream",
          "text": [
            "Loss= 1.6926412056314866\n"
          ],
          "name": "stdout"
        }
      ]
    },
    {
      "cell_type": "code",
      "metadata": {
        "colab": {
          "base_uri": "https://localhost:8080/"
        },
        "id": "PWoEQe7DppQ0",
        "outputId": "c701055f-8a7f-44bd-82cf-356eb0dc8cf8"
      },
      "source": [
        "# Calculate accuracy\n",
        "accuracy = calculate_accuracy(final_weights, basketball_testdata.transpose(), basketball_testtarget)\n",
        "print('Accuracy= {}'.format(accuracy))"
      ],
      "execution_count": null,
      "outputs": [
        {
          "output_type": "stream",
          "text": [
            "Accuracy= 0.7125\n"
          ],
          "name": "stdout"
        }
      ]
    },
    {
      "cell_type": "code",
      "metadata": {
        "id": "AousUgYGsftl"
      },
      "source": [
        "# Training (height, weight, gender)\n",
        "height_weight_gender = pd.DataFrame([basketball_df['height'], basketball_df['weight'], basketball_df['female']]).transpose().values\n",
        "basketball_traindata, basketball_testdata, basketball_traintest, basketball_testtarget = train_test_split(height_weight_gender, basketball_target, test_size=0.2)\n",
        "# Update calculate_probability method since there is one additional feature: gender\n",
        "def calculate_probability(weights, features):\n",
        "  predictions = features[2]*weights[3]+features[1]*weights[2]+features[0]*weights[1]+weights[0]\n",
        "  p_prediction = 1/(1+np.exp(-1*predictions))\n",
        "  return p_prediction\n",
        "\n",
        "# Update batchGradient desecent method...\n",
        "def computeMSEBatchGradient(weights,features,targets):\n",
        "    sigmoid = calculate_probability(weights, features)\n",
        "    errors=targets-sigmoid\n",
        "    gradient=np.array([-2.0*np.average(errors),\n",
        "              -2.0*np.average(features[0]*errors),\n",
        "              -2.0*np.average(features[1]*errors),\n",
        "              -2.0*np.average(features[2]*errors)])\n",
        "\n",
        "    return gradient"
      ],
      "execution_count": null,
      "outputs": []
    },
    {
      "cell_type": "code",
      "metadata": {
        "colab": {
          "base_uri": "https://localhost:8080/",
          "height": 53
        },
        "id": "Z4Jbuq6GtSgO",
        "outputId": "e1f41ed9-79d3-4d27-b891-be36549f45a6"
      },
      "source": [
        "# Check the actual result of the logistic regression first\n",
        "lin_model=LogisticRegression()\n",
        "lin_model.fit(basketball_traindata,basketball_traintest)\n",
        "basketball_testpredict = lin_model.predict(basketball_testdata)\n",
        "# print intercept and slope\n",
        "display(lin_model.intercept_, lin_model.coef_)"
      ],
      "execution_count": null,
      "outputs": [
        {
          "output_type": "display_data",
          "data": {
            "text/plain": [
              "array([3.1603777])"
            ]
          },
          "metadata": {
            "tags": []
          }
        },
        {
          "output_type": "display_data",
          "data": {
            "text/plain": [
              "array([[-0.19937227,  0.05787971,  0.74646659]])"
            ]
          },
          "metadata": {
            "tags": []
          }
        }
      ]
    },
    {
      "cell_type": "code",
      "metadata": {
        "id": "UxPj8IPvt5xY"
      },
      "source": [
        "# Calculate the weights\n",
        "weights = [10, 10, 10, 10]\n",
        "learning_rate = [.0008, .00002, .00001, .0004]\n",
        "final_weights=run(weights,basketball_traindata.transpose(),basketball_traintest,learning_rate)\n",
        "# Takes about 2 min\n",
        "# Final result should close to: [ 2.59467511 -0.18462363  0.05417198  0.98758839]"
      ],
      "execution_count": null,
      "outputs": []
    },
    {
      "cell_type": "code",
      "metadata": {
        "colab": {
          "base_uri": "https://localhost:8080/"
        },
        "id": "fI9qj1rnyCuX",
        "outputId": "fb8ad22a-100e-41ef-9726-8d4c36f1d207"
      },
      "source": [
        "# Calculate loss\n",
        "loss = calculate_loss(final_weights, basketball_testdata.ravel(), basketball_testtarget)\n",
        "print('Loss= {}'.format(loss))"
      ],
      "execution_count": null,
      "outputs": [
        {
          "output_type": "stream",
          "text": [
            "Loss= 1.771948910191527\n"
          ],
          "name": "stdout"
        }
      ]
    },
    {
      "cell_type": "code",
      "metadata": {
        "colab": {
          "base_uri": "https://localhost:8080/"
        },
        "id": "HXz5ZgaGyGkb",
        "outputId": "f40e9e3d-d3ae-4da9-cc2e-e605e2241023"
      },
      "source": [
        "# Calculate accuracy\n",
        "accuracy = calculate_accuracy(final_weights, basketball_testdata.transpose(), basketball_testtarget)\n",
        "print('Accuracy= {}'.format(accuracy))"
      ],
      "execution_count": null,
      "outputs": [
        {
          "output_type": "stream",
          "text": [
            "Accuracy= 0.75\n"
          ],
          "name": "stdout"
        }
      ]
    },
    {
      "cell_type": "markdown",
      "metadata": {
        "id": "6SQzaBHFyMoT"
      },
      "source": [
        "As the result, according to the result of accuracy, using all three parameters will have a more accurate prediction. In addition, I feel like that the result of final_weights is heavily depended on the initial variable of weights and learning rate. It is really hard to find the \"sweet spot\". I spent a good amount of time to just find those sweet spots."
      ]
    },
    {
      "cell_type": "markdown",
      "metadata": {
        "id": "3ZY1RoFWaqYi"
      },
      "source": [
        "---\n",
        "---\n",
        "\n",
        "**Submission:**\n",
        "\n",
        "All code must be written in Python. Submit all files needed for the TA to grade.  You can choose one of two methods:\n",
        "\n",
        "* iPython notebook: you can document your code and provide the written answers within the iPython notebook.  Please indicate your name at the top.  Also, if you are using Google Colab (or other online iPython notebook services), please download submit the ipynb file. (*Do not submit a link to the file.*)\n",
        "\n",
        "* Zip archive: make sure to include both your writeup and the code, as well as instructions on how to execute the code. (Ideally, we would prefer that you ensure your code can run on the CSE stdlinux.cse.ohio-state.edu system, and your instructions are tailored to getting it running on said system. In general please avoid using any packages other than those mentioned in the lab itself and try not to do anything too tricky or unusual with regards to running your code.)\n",
        "\n",
        "You may ask colleagues for general understanding assistance but do not share code.  You may start, however, from the hands-on code as a jumping off point.  Please do not copy code from the internet in developing your answer."
      ]
    }
  ]
}