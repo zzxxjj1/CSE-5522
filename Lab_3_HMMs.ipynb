{
  "nbformat": 4,
  "nbformat_minor": 0,
  "metadata": {
    "colab": {
      "provenance": []
    },
    "kernelspec": {
      "name": "python3",
      "display_name": "Python 3"
    },
    "language_info": {
      "name": "python"
    }
  },
  "cells": [
    {
      "cell_type": "markdown",
      "metadata": {
        "id": "LNkYoqYa2B0L"
      },
      "source": [
        "**Part 1 (50 points):**\n",
        "\n",
        "  Implement the Viterbi algorithm for HMMs for Eisner's Ice Cream Problem (predict whether each day is hot or cold based on the number of ice creams eaten).  See eisner.hmm.xls for a bit more discussion on the problem. Remember that the Viterbi algorithm computes the most likely sequence for an input."
      ]
    },
    {
      "cell_type": "code",
      "metadata": {
        "id": "_tDVcKNi2A-s"
      },
      "source": [
        "import numpy as np\n",
        "import pandas as pd\n",
        "import matplotlib.pyplot as plt"
      ],
      "execution_count": null,
      "outputs": []
    },
    {
      "cell_type": "code",
      "metadata": {
        "id": "gvdVWjFU2GbT"
      },
      "source": [
        "observation_url = 'http://web.cse.ohio-state.edu/~barker.348/cse5522/lab3/observationProbs.csv'\n",
        "transition_url = 'http://web.cse.ohio-state.edu/~barker.348/cse5522/lab3/transitionProbs.csv'\n",
        "test_url = 'http://web.cse.ohio-state.edu/~barker.348/cse5522/lab3/testData.csv'\n",
        "observation_df = pd.read_csv(observation_url)\n",
        "transition_df = pd.read_csv(transition_url)\n",
        "test_df = pd.read_csv(test_url)"
      ],
      "execution_count": null,
      "outputs": []
    },
    {
      "cell_type": "code",
      "metadata": {
        "colab": {
          "base_uri": "https://localhost:8080/",
          "height": 454
        },
        "id": "dGhR6Lhi2IEq",
        "outputId": "00353d32-de0b-45cf-b174-6029d66718f1"
      },
      "source": [
        "display(observation_df.head(), transition_df.head(), test_df.head())"
      ],
      "execution_count": null,
      "outputs": [
        {
          "output_type": "display_data",
          "data": {
            "text/html": [
              "<div>\n",
              "<style scoped>\n",
              "    .dataframe tbody tr th:only-of-type {\n",
              "        vertical-align: middle;\n",
              "    }\n",
              "\n",
              "    .dataframe tbody tr th {\n",
              "        vertical-align: top;\n",
              "    }\n",
              "\n",
              "    .dataframe thead th {\n",
              "        text-align: right;\n",
              "    }\n",
              "</style>\n",
              "<table border=\"1\" class=\"dataframe\">\n",
              "  <thead>\n",
              "    <tr style=\"text-align: right;\">\n",
              "      <th></th>\n",
              "      <th>P(x|...)</th>\n",
              "      <th>C</th>\n",
              "      <th>H</th>\n",
              "    </tr>\n",
              "  </thead>\n",
              "  <tbody>\n",
              "    <tr>\n",
              "      <th>0</th>\n",
              "      <td>1</td>\n",
              "      <td>0.6407</td>\n",
              "      <td>0.0002</td>\n",
              "    </tr>\n",
              "    <tr>\n",
              "      <th>1</th>\n",
              "      <td>2</td>\n",
              "      <td>0.1481</td>\n",
              "      <td>0.5341</td>\n",
              "    </tr>\n",
              "    <tr>\n",
              "      <th>2</th>\n",
              "      <td>3</td>\n",
              "      <td>0.2122</td>\n",
              "      <td>0.4657</td>\n",
              "    </tr>\n",
              "  </tbody>\n",
              "</table>\n",
              "</div>"
            ],
            "text/plain": [
              "   P(x|...)       C       H\n",
              "0         1  0.6407  0.0002\n",
              "1         2  0.1481  0.5341\n",
              "2         3  0.2122  0.4657"
            ]
          },
          "metadata": {
            "tags": []
          }
        },
        {
          "output_type": "display_data",
          "data": {
            "text/html": [
              "<div>\n",
              "<style scoped>\n",
              "    .dataframe tbody tr th:only-of-type {\n",
              "        vertical-align: middle;\n",
              "    }\n",
              "\n",
              "    .dataframe tbody tr th {\n",
              "        vertical-align: top;\n",
              "    }\n",
              "\n",
              "    .dataframe thead th {\n",
              "        text-align: right;\n",
              "    }\n",
              "</style>\n",
              "<table border=\"1\" class=\"dataframe\">\n",
              "  <thead>\n",
              "    <tr style=\"text-align: right;\">\n",
              "      <th></th>\n",
              "      <th>P(x|...)</th>\n",
              "      <th>C</th>\n",
              "      <th>H</th>\n",
              "      <th>START</th>\n",
              "    </tr>\n",
              "  </thead>\n",
              "  <tbody>\n",
              "    <tr>\n",
              "      <th>0</th>\n",
              "      <td>C</td>\n",
              "      <td>0.87</td>\n",
              "      <td>0.47</td>\n",
              "      <td>0.5</td>\n",
              "    </tr>\n",
              "    <tr>\n",
              "      <th>1</th>\n",
              "      <td>H</td>\n",
              "      <td>0.07</td>\n",
              "      <td>0.47</td>\n",
              "      <td>0.5</td>\n",
              "    </tr>\n",
              "    <tr>\n",
              "      <th>2</th>\n",
              "      <td>STOP</td>\n",
              "      <td>0.06</td>\n",
              "      <td>0.06</td>\n",
              "      <td>0.0</td>\n",
              "    </tr>\n",
              "  </tbody>\n",
              "</table>\n",
              "</div>"
            ],
            "text/plain": [
              "  P(x|...)     C     H  START\n",
              "0        C  0.87  0.47    0.5\n",
              "1        H  0.07  0.47    0.5\n",
              "2     STOP  0.06  0.06    0.0"
            ]
          },
          "metadata": {
            "tags": []
          }
        },
        {
          "output_type": "display_data",
          "data": {
            "text/html": [
              "<div>\n",
              "<style scoped>\n",
              "    .dataframe tbody tr th:only-of-type {\n",
              "        vertical-align: middle;\n",
              "    }\n",
              "\n",
              "    .dataframe tbody tr th {\n",
              "        vertical-align: top;\n",
              "    }\n",
              "\n",
              "    .dataframe thead th {\n",
              "        text-align: right;\n",
              "    }\n",
              "</style>\n",
              "<table border=\"1\" class=\"dataframe\">\n",
              "  <thead>\n",
              "    <tr style=\"text-align: right;\">\n",
              "      <th></th>\n",
              "      <th>SeqNumber</th>\n",
              "      <th>Obs1</th>\n",
              "      <th>Obs2</th>\n",
              "      <th>Obs3</th>\n",
              "      <th>Obs4</th>\n",
              "      <th>Obs5</th>\n",
              "    </tr>\n",
              "  </thead>\n",
              "  <tbody>\n",
              "    <tr>\n",
              "      <th>0</th>\n",
              "      <td>1</td>\n",
              "      <td>2</td>\n",
              "      <td>3</td>\n",
              "      <td>3</td>\n",
              "      <td>2</td>\n",
              "      <td>3</td>\n",
              "    </tr>\n",
              "    <tr>\n",
              "      <th>1</th>\n",
              "      <td>2</td>\n",
              "      <td>2</td>\n",
              "      <td>3</td>\n",
              "      <td>2</td>\n",
              "      <td>2</td>\n",
              "      <td>0</td>\n",
              "    </tr>\n",
              "    <tr>\n",
              "      <th>2</th>\n",
              "      <td>3</td>\n",
              "      <td>3</td>\n",
              "      <td>1</td>\n",
              "      <td>3</td>\n",
              "      <td>3</td>\n",
              "      <td>1</td>\n",
              "    </tr>\n",
              "    <tr>\n",
              "      <th>3</th>\n",
              "      <td>4</td>\n",
              "      <td>2</td>\n",
              "      <td>1</td>\n",
              "      <td>1</td>\n",
              "      <td>0</td>\n",
              "      <td>0</td>\n",
              "    </tr>\n",
              "    <tr>\n",
              "      <th>4</th>\n",
              "      <td>5</td>\n",
              "      <td>1</td>\n",
              "      <td>1</td>\n",
              "      <td>1</td>\n",
              "      <td>2</td>\n",
              "      <td>3</td>\n",
              "    </tr>\n",
              "  </tbody>\n",
              "</table>\n",
              "</div>"
            ],
            "text/plain": [
              "   SeqNumber  Obs1  Obs2  Obs3  Obs4  Obs5\n",
              "0          1     2     3     3     2     3\n",
              "1          2     2     3     2     2     0\n",
              "2          3     3     1     3     3     1\n",
              "3          4     2     1     1     0     0\n",
              "4          5     1     1     1     2     3"
            ]
          },
          "metadata": {
            "tags": []
          }
        }
      ]
    },
    {
      "cell_type": "code",
      "metadata": {
        "id": "Fw2hp8iS2LMz"
      },
      "source": [
        "h_or_c = np.array(transition_df)[:2,0]\n",
        "observations = np.array(observation_df)[:,0]\n",
        "observation_seq = np.array(test_df)[:, 1:6]\n",
        "#display(h_or_c, observations, observation_seq)"
      ],
      "execution_count": null,
      "outputs": []
    },
    {
      "cell_type": "markdown",
      "metadata": {
        "id": "uDfWRVgf2Sg2"
      },
      "source": [
        "**Initialize all the data structure that is going to be needed for viterbi:**"
      ]
    },
    {
      "cell_type": "code",
      "metadata": {
        "id": "erwAftjM2Nv8"
      },
      "source": [
        "def initilize_data(h_or_c, obs):\n",
        "  prior_prob = {}\n",
        "  stop_prob = {}\n",
        "  transition_prob = {}\n",
        "  emission_prob = {}\n",
        "  for i in range(len(h_or_c)):\n",
        "    weather = h_or_c[i]\n",
        "    # Setup the dictionary with prior probobility given the correspond weather\n",
        "    prior_prob[weather] = np.array(transition_df[['START']])[i][0]\n",
        "    # Setup the dictionary with stop probobility given the correspond weather\n",
        "    stop_prob[weather] = np.array(transition_df)[2][i+1]\n",
        "    # Initilize two empty inner dictionary for transition_prob and emissioin_prob\n",
        "    prob_today_given_yesterday = {}\n",
        "    observation_prob_given_weather = {}\n",
        "    for j in range(len(h_or_c)):\n",
        "        #Setup the dictionary with the probobility of today's weather given\n",
        "        #yesterday's weather\n",
        "        prob_today_given_yesterday[h_or_c[j]] = np.array(transition_df)[i][j+1]\n",
        "    transition_prob[weather] = prob_today_given_yesterday\n",
        "    for k in range(len(obs)):\n",
        "        #Setup the dictionary with the probobility of observation given\n",
        "        #the weather cold or hot\n",
        "        observation_prob_given_weather[obs[k]] = np.array(observation_df)[:,i+1][k]\n",
        "    emission_prob[weather] = observation_prob_given_weather\n",
        "  return prior_prob, stop_prob, transition_prob, emission_prob"
      ],
      "execution_count": null,
      "outputs": []
    },
    {
      "cell_type": "code",
      "metadata": {
        "colab": {
          "base_uri": "https://localhost:8080/",
          "height": 102
        },
        "id": "DB62FIEw2QOx",
        "outputId": "e7d20897-c576-4f8f-f20f-e3363d2b140f"
      },
      "source": [
        "prior_prob, stop_prob, transition_prob, emission_prob = initilize_data(h_or_c, observations)\n",
        "display(prior_prob, stop_prob, transition_prob, emission_prob)"
      ],
      "execution_count": null,
      "outputs": [
        {
          "output_type": "display_data",
          "data": {
            "text/plain": [
              "{'C': 0.5, 'H': 0.5}"
            ]
          },
          "metadata": {
            "tags": []
          }
        },
        {
          "output_type": "display_data",
          "data": {
            "text/plain": [
              "{'C': 0.06, 'H': 0.06}"
            ]
          },
          "metadata": {
            "tags": []
          }
        },
        {
          "output_type": "display_data",
          "data": {
            "text/plain": [
              "{'C': {'C': 0.87, 'H': 0.47}, 'H': {'C': 0.07, 'H': 0.47}}"
            ]
          },
          "metadata": {
            "tags": []
          }
        },
        {
          "output_type": "display_data",
          "data": {
            "text/plain": [
              "{'C': {1.0: 0.6407, 2.0: 0.1481, 3.0: 0.2122},\n",
              " 'H': {1.0: 0.0002, 2.0: 0.5341, 3.0: 0.4657}}"
            ]
          },
          "metadata": {
            "tags": []
          }
        }
      ]
    },
    {
      "cell_type": "code",
      "metadata": {
        "id": "SAkxajbF2Vkg"
      },
      "source": [
        "def viterbi(h_or_c, obs, prior_prob, stop_prob, transition_prob, emission_prob):\n",
        "  m_table = [{}]\n",
        "  c_table = {}\n",
        "  #Calculate the initial m11 m12 and store in the m table\n",
        "  for weather in h_or_c:\n",
        "    m_table[0][weather] = prior_prob[weather] * emission_prob[weather][obs[0]]\n",
        "    c_table[weather] = [weather]\n",
        "  #Take the farther step to calculate the rest mi1 and mi2\n",
        "  for i in range(1, len(obs)):\n",
        "    m_table.append({})\n",
        "    c_table_temp = {}\n",
        "    for y_weather in h_or_c:\n",
        "      prob_t_given_y = {}\n",
        "      for t_weather in h_or_c:\n",
        "        prob_t_given_y[t_weather] = m_table[i-1][t_weather] \\\n",
        "                                    * transition_prob[t_weather][y_weather] \\\n",
        "                                    * emission_prob[y_weather][obs[i]]\n",
        "      # Find the weather with the max probobility\n",
        "      key_list = list(prob_t_given_y.keys())\n",
        "      val_list = list(prob_t_given_y.values())\n",
        "      max_prob = max(val_list) # Find the max probility\n",
        "      m_table[i][y_weather] = max_prob\n",
        "      position = val_list.index(max_prob)\n",
        "      key_weather = key_list[position]\n",
        "      c_table_temp[y_weather] = c_table[key_weather] + [y_weather]\n",
        "    c_table = c_table_temp\n",
        "  #Calculate the last day's probobility\n",
        "  prob_lastday_given_yesterday = {}\n",
        "  for weather in h_or_c:\n",
        "    prob_lastday_given_yesterday[weather] = m_table[len(obs) - 1][weather] * stop_prob[weather]\n",
        "  key_list = list(prob_lastday_given_yesterday.keys())\n",
        "  val_list = list(prob_lastday_given_yesterday.values())\n",
        "  max_prob = max(val_list) # Find the max probility of the last day\n",
        "  position = val_list.index(max_prob)\n",
        "  last_day_weather = key_list[position]\n",
        "  return c_table[last_day_weather]"
      ],
      "execution_count": null,
      "outputs": []
    },
    {
      "cell_type": "code",
      "metadata": {
        "colab": {
          "base_uri": "https://localhost:8080/"
        },
        "id": "1oxrRap12Y8O",
        "outputId": "0aac0faa-b41e-41b8-ecf4-08fcdd97a291"
      },
      "source": [
        "i = 1\n",
        "for obs in observation_seq:\n",
        "  obs = obs[obs != 0] # Remove all the zeros from the sequence\n",
        "  print('SeqNumber', i, ':',end=' ')\n",
        "  print(viterbi(h_or_c, obs, prior_prob, stop_prob, transition_prob, emission_prob))\n",
        "  i+=1"
      ],
      "execution_count": null,
      "outputs": [
        {
          "output_type": "stream",
          "text": [
            "SeqNumber 1 : ['H', 'H', 'H', 'H', 'H']\n",
            "SeqNumber 2 : ['H', 'H', 'H', 'H']\n",
            "SeqNumber 3 : ['C', 'C', 'C', 'C', 'C']\n",
            "SeqNumber 4 : ['C', 'C', 'C']\n",
            "SeqNumber 5 : ['C', 'C', 'C', 'H', 'H']\n",
            "SeqNumber 6 : ['C', 'C', 'C', 'C']\n",
            "SeqNumber 7 : ['H', 'H', 'H']\n",
            "SeqNumber 8 : ['C', 'C', 'C', 'C']\n",
            "SeqNumber 9 : ['C', 'H', 'H', 'H', 'H']\n",
            "SeqNumber 10 : ['C', 'C', 'C']\n"
          ],
          "name": "stdout"
        }
      ]
    },
    {
      "cell_type": "markdown",
      "metadata": {
        "id": "IBp0NPBe2bTf"
      },
      "source": [
        "**The viterbi is suggesting that having 3 ice creams is defintely a hot day and having only 1 ice cream is a cold day. And when it comes to have 2 ice creams, it really depends on the day after. If the day after had 3 ice creams, then the day which had 2 ice creams is likely to be a hot day. If the day after had 1 ice cream, then the day which had 2 ice creams is more likely to be a cold day.**\n"
      ]
    },
    {
      "cell_type": "markdown",
      "metadata": {
        "id": "8XlfAAq_2gRl"
      },
      "source": [
        "**Part 2 (50 points):**\n",
        "\n",
        "Using the same network, implement likelihood (weighting) sampling for approximate inference.  For any test sequence, sample complete sequences of the hidden states n times, where n can range from 10 to 100000 samples. The goal is to approximate the likelihood of all possible sequences.\n",
        "\n"
      ]
    },
    {
      "cell_type": "code",
      "metadata": {
        "colab": {
          "base_uri": "https://localhost:8080/",
          "height": 68
        },
        "id": "NKV8Q0U72dnj",
        "outputId": "4744b726-38dc-45a3-a539-d5d9c6d90e33"
      },
      "source": [
        "import copy\n",
        "normalized_transition = copy.deepcopy(transition_prob)\n",
        "display(normalized_transition)\n",
        "for y_weather in h_or_c:\n",
        "  prob_sum = 0\n",
        "  for t_weather in h_or_c:\n",
        "    prob_sum += normalized_transition[t_weather][y_weather]\n",
        "  for t_weather in h_or_c:\n",
        "    normalized_transition[t_weather][y_weather] = normalized_transition[t_weather][y_weather]/prob_sum\n",
        "display(normalized_transition)"
      ],
      "execution_count": null,
      "outputs": [
        {
          "output_type": "display_data",
          "data": {
            "text/plain": [
              "{'C': {'C': 0.87, 'H': 0.47}, 'H': {'C': 0.07, 'H': 0.47}}"
            ]
          },
          "metadata": {
            "tags": []
          }
        },
        {
          "output_type": "display_data",
          "data": {
            "text/plain": [
              "{'C': {'C': 0.9255319148936171, 'H': 0.5},\n",
              " 'H': {'C': 0.07446808510638299, 'H': 0.5}}"
            ]
          },
          "metadata": {
            "tags": []
          }
        }
      ]
    },
    {
      "cell_type": "code",
      "metadata": {
        "id": "RclZSlYp2jTY"
      },
      "source": [
        "import random\n",
        "def likelihood(obs, prior_prob, transition_prob, emission_prob, iterations):\n",
        "  sample_seq = {}\n",
        "  for _ in range(iterations):\n",
        "    random_prob = random.random()\n",
        "    weather_seq = []\n",
        "    weather = ''\n",
        "    if random_prob < prior_prob['C']:\n",
        "      weather = 'C'\n",
        "    else:\n",
        "      weather = 'H'\n",
        "    weather_seq.append(weather)\n",
        "    weight = emission_prob[weather][obs[0]]\n",
        "    for i in range(1, len(obs)):\n",
        "      prob_t_given_y = transition_prob['C'][weather]\n",
        "      random_prob = random.random()\n",
        "      if random_prob < prob_t_given_y:\n",
        "        weather = 'C'\n",
        "      else:\n",
        "        weather = 'H'\n",
        "      weather_seq.append(weather)\n",
        "      weight *= emission_prob[weather][obs[i]]\n",
        "    if tuple(weather_seq) in sample_seq:\n",
        "      sample_seq[tuple(weather_seq)] += weight\n",
        "    else:\n",
        "      sample_seq[tuple(weather_seq)] = weight\n",
        "\n",
        "  key_list = list(sample_seq.keys())\n",
        "  val_list = list(sample_seq.values())\n",
        "  max_weight = max(val_list) # Find the max weight\n",
        "  position = val_list.index(max_weight)\n",
        "  most_likely_sequence = key_list[position]\n",
        "\n",
        "  return most_likely_sequence"
      ],
      "execution_count": null,
      "outputs": []
    },
    {
      "cell_type": "code",
      "metadata": {
        "colab": {
          "base_uri": "https://localhost:8080/"
        },
        "id": "uoofD9h02nO1",
        "outputId": "186a8c35-ca64-47b8-cfb9-69f5f166b58d"
      },
      "source": [
        "i = 1\n",
        "print('Generate 10 samples: ')\n",
        "for obs in observation_seq:\n",
        "  obs = obs[obs != 0] # Remove all the zeros from the sequence\n",
        "  print('SeqNumber', i, ':',end=' ')\n",
        "  print(likelihood(obs, prior_prob, transition_prob, emission_prob, 10))\n",
        "  i+=1"
      ],
      "execution_count": null,
      "outputs": [
        {
          "output_type": "stream",
          "text": [
            "Generate 10 samples: \n",
            "SeqNumber 1 : ('H', 'H', 'H', 'H', 'C')\n",
            "SeqNumber 2 : ('H', 'H', 'H', 'H')\n",
            "SeqNumber 3 : ('C', 'C', 'C', 'C', 'C')\n",
            "SeqNumber 4 : ('H', 'C', 'C')\n",
            "SeqNumber 5 : ('C', 'C', 'C', 'C', 'H')\n",
            "SeqNumber 6 : ('C', 'C', 'C', 'C')\n",
            "SeqNumber 7 : ('H', 'H', 'H')\n",
            "SeqNumber 8 : ('H', 'H', 'C', 'C')\n",
            "SeqNumber 9 : ('C', 'C', 'C', 'H', 'H')\n",
            "SeqNumber 10 : ('C', 'C', 'C')\n"
          ],
          "name": "stdout"
        }
      ]
    },
    {
      "cell_type": "code",
      "metadata": {
        "colab": {
          "base_uri": "https://localhost:8080/"
        },
        "id": "QSciZA5K2ppy",
        "outputId": "c4ad6d45-d409-41f3-c257-2659e0ce28fe"
      },
      "source": [
        "i = 1\n",
        "print('Generate 100 samples: ')\n",
        "for obs in observation_seq:\n",
        "  obs = obs[obs != 0] # Remove all the zeros from the sequence\n",
        "  print('SeqNumber', i, ':',end=' ')\n",
        "  print(likelihood(obs, prior_prob, transition_prob, emission_prob, 100))\n",
        "  i+=1"
      ],
      "execution_count": null,
      "outputs": [
        {
          "output_type": "stream",
          "text": [
            "Generate 100 samples: \n",
            "SeqNumber 1 : ('H', 'H', 'H', 'H', 'H')\n",
            "SeqNumber 2 : ('H', 'H', 'H', 'H')\n",
            "SeqNumber 3 : ('C', 'C', 'C', 'C', 'C')\n",
            "SeqNumber 4 : ('H', 'C', 'C')\n",
            "SeqNumber 5 : ('C', 'C', 'C', 'C', 'C')\n",
            "SeqNumber 6 : ('C', 'C', 'C', 'C')\n",
            "SeqNumber 7 : ('H', 'H', 'H')\n",
            "SeqNumber 8 : ('H', 'H', 'C', 'C')\n",
            "SeqNumber 9 : ('C', 'H', 'H', 'H', 'H')\n",
            "SeqNumber 10 : ('C', 'C', 'C')\n"
          ],
          "name": "stdout"
        }
      ]
    },
    {
      "cell_type": "code",
      "metadata": {
        "colab": {
          "base_uri": "https://localhost:8080/"
        },
        "id": "6tfCiqmY2r7w",
        "outputId": "39f3d360-7627-4645-8acc-0618344120b4"
      },
      "source": [
        "i = 1\n",
        "print('Generate 1000 samples: ')\n",
        "for obs in observation_seq:\n",
        "  obs = obs[obs != 0] # Remove all the zeros from the sequence\n",
        "  print('SeqNumber', i, ':',end=' ')\n",
        "  print(likelihood(obs, prior_prob, transition_prob, emission_prob, 1000))\n",
        "  i+=1"
      ],
      "execution_count": null,
      "outputs": [
        {
          "output_type": "stream",
          "text": [
            "Generate 1000 samples: \n",
            "SeqNumber 1 : ('H', 'H', 'H', 'H', 'H')\n",
            "SeqNumber 2 : ('H', 'H', 'H', 'H')\n",
            "SeqNumber 3 : ('H', 'C', 'C', 'C', 'C')\n",
            "SeqNumber 4 : ('H', 'C', 'C')\n",
            "SeqNumber 5 : ('C', 'C', 'C', 'C', 'C')\n",
            "SeqNumber 6 : ('C', 'C', 'C', 'C')\n",
            "SeqNumber 7 : ('H', 'H', 'H')\n",
            "SeqNumber 8 : ('H', 'H', 'C', 'C')\n",
            "SeqNumber 9 : ('C', 'C', 'H', 'H', 'H')\n",
            "SeqNumber 10 : ('C', 'C', 'C')\n"
          ],
          "name": "stdout"
        }
      ]
    },
    {
      "cell_type": "code",
      "metadata": {
        "colab": {
          "base_uri": "https://localhost:8080/"
        },
        "id": "jp0f9WGV2t0l",
        "outputId": "8ec69b7e-4985-43d3-eb4f-c43928ba463c"
      },
      "source": [
        "i = 1\n",
        "print('Generate 10000 samples: ')\n",
        "for obs in observation_seq:\n",
        "  obs = obs[obs != 0] # Remove all the zeros from the sequence\n",
        "  print('SeqNumber', i, ':',end=' ')\n",
        "  print(likelihood(obs, prior_prob, transition_prob, emission_prob, 10000))\n",
        "  i+=1"
      ],
      "execution_count": null,
      "outputs": [
        {
          "output_type": "stream",
          "text": [
            "Generate 10000 samples: \n",
            "SeqNumber 1 : ('H', 'H', 'H', 'H', 'H')\n",
            "SeqNumber 2 : ('H', 'H', 'H', 'H')\n",
            "SeqNumber 3 : ('H', 'C', 'C', 'C', 'C')\n",
            "SeqNumber 4 : ('H', 'C', 'C')\n",
            "SeqNumber 5 : ('C', 'C', 'C', 'C', 'C')\n",
            "SeqNumber 6 : ('C', 'C', 'C', 'C')\n",
            "SeqNumber 7 : ('H', 'H', 'H')\n",
            "SeqNumber 8 : ('H', 'H', 'C', 'C')\n",
            "SeqNumber 9 : ('C', 'H', 'H', 'H', 'H')\n",
            "SeqNumber 10 : ('C', 'C', 'C')\n"
          ],
          "name": "stdout"
        }
      ]
    },
    {
      "cell_type": "code",
      "metadata": {
        "colab": {
          "base_uri": "https://localhost:8080/"
        },
        "id": "jtI-W_9E2viX",
        "outputId": "445cabac-fda5-413f-a733-8d5a71f6306e"
      },
      "source": [
        "i = 1\n",
        "print('Generate 100000 samples: ')\n",
        "for obs in observation_seq:\n",
        "  obs = obs[obs != 0] # Remove all the zeros from the sequence\n",
        "  print('SeqNumber', i, ':',end=' ')\n",
        "  print(likelihood(obs, prior_prob, transition_prob, emission_prob, 100000))\n",
        "  i+=1"
      ],
      "execution_count": null,
      "outputs": [
        {
          "output_type": "stream",
          "text": [
            "Generate 100000 samples: \n",
            "SeqNumber 1 : ('H', 'H', 'H', 'H', 'H')\n",
            "SeqNumber 2 : ('H', 'H', 'H', 'H')\n",
            "SeqNumber 3 : ('H', 'C', 'C', 'C', 'C')\n",
            "SeqNumber 4 : ('H', 'C', 'C')\n",
            "SeqNumber 5 : ('C', 'C', 'C', 'C', 'C')\n",
            "SeqNumber 6 : ('C', 'C', 'C', 'C')\n",
            "SeqNumber 7 : ('H', 'H', 'H')\n",
            "SeqNumber 8 : ('H', 'H', 'C', 'C')\n",
            "SeqNumber 9 : ('C', 'H', 'H', 'H', 'H')\n",
            "SeqNumber 10 : ('C', 'C', 'C')\n"
          ],
          "name": "stdout"
        }
      ]
    },
    {
      "cell_type": "markdown",
      "metadata": {
        "id": "IN5oTxtR8Euk"
      },
      "source": [
        "**As the number of samples increases, the likelihood is getting more and more acturate comparing with the result of viterbi. But the overhead of this likelihood is increasing dramatically as the size of the sample increases.**\n"
      ]
    }
  ]
}